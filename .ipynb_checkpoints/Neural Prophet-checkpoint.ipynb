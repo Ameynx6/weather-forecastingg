{
 "cells": [
  {
   "cell_type": "markdown",
   "metadata": {},
   "source": [
    "# 0. Install and Import Dependencies"
   ]
  },
  {
   "cell_type": "code",
   "execution_count": 4,
   "metadata": {
    "scrolled": true
   },
   "outputs": [
    {
     "name": "stdout",
     "output_type": "stream",
     "text": [
      "Requirement already satisfied: neuralprophet in f:\\apps\\anaconda\\envs\\nenv\\lib\\site-packages (0.3.2)\n",
      "Requirement already satisfied: numpy>=1.15.4 in f:\\apps\\anaconda\\envs\\nenv\\lib\\site-packages (from neuralprophet) (1.26.0)\n",
      "Requirement already satisfied: pandas>=1.0.4 in f:\\apps\\anaconda\\envs\\nenv\\lib\\site-packages (from neuralprophet) (1.5.3)\n",
      "Requirement already satisfied: matplotlib>=2.0.0 in f:\\apps\\anaconda\\envs\\nenv\\lib\\site-packages (from neuralprophet) (3.4.3)\n",
      "Requirement already satisfied: torch>=1.4.0 in f:\\apps\\anaconda\\envs\\nenv\\lib\\site-packages (from neuralprophet) (2.0.0)\n",
      "Requirement already satisfied: LunarCalendar>=0.0.9 in f:\\apps\\anaconda\\envs\\nenv\\lib\\site-packages (from neuralprophet) (0.0.9)\n",
      "Requirement already satisfied: convertdate>=2.1.2 in f:\\apps\\anaconda\\envs\\nenv\\lib\\site-packages (from neuralprophet) (2.4.0)\n",
      "Requirement already satisfied: holidays>=0.11.3.1 in f:\\apps\\anaconda\\envs\\nenv\\lib\\site-packages (from neuralprophet) (0.33)\n",
      "Requirement already satisfied: python-dateutil>=2.8.0 in f:\\apps\\anaconda\\envs\\nenv\\lib\\site-packages (from neuralprophet) (2.8.2)\n",
      "Requirement already satisfied: tqdm>=4.50.2 in f:\\apps\\anaconda\\envs\\nenv\\lib\\site-packages (from neuralprophet) (4.66.1)\n",
      "Requirement already satisfied: torch-lr-finder>=0.2.1 in f:\\apps\\anaconda\\envs\\nenv\\lib\\site-packages (from neuralprophet) (0.2.1)\n",
      "Requirement already satisfied: ipywidgets>=7.5.1 in f:\\apps\\anaconda\\envs\\nenv\\lib\\site-packages (from neuralprophet) (8.0.4)\n",
      "Requirement already satisfied: dataclasses>=0.6 in f:\\apps\\anaconda\\envs\\nenv\\lib\\site-packages (from neuralprophet) (0.6)\n",
      "Requirement already satisfied: pymeeus<=1,>=0.3.13 in f:\\apps\\anaconda\\envs\\nenv\\lib\\site-packages (from convertdate>=2.1.2->neuralprophet) (0.5.12)\n",
      "Requirement already satisfied: ipykernel>=4.5.1 in f:\\apps\\anaconda\\envs\\nenv\\lib\\site-packages (from ipywidgets>=7.5.1->neuralprophet) (6.25.0)\n",
      "Requirement already satisfied: ipython>=6.1.0 in f:\\apps\\anaconda\\envs\\nenv\\lib\\site-packages (from ipywidgets>=7.5.1->neuralprophet) (8.15.0)\n",
      "Requirement already satisfied: traitlets>=4.3.1 in f:\\apps\\anaconda\\envs\\nenv\\lib\\site-packages (from ipywidgets>=7.5.1->neuralprophet) (5.10.1)\n",
      "Requirement already satisfied: widgetsnbextension~=4.0 in f:\\apps\\anaconda\\envs\\nenv\\lib\\site-packages (from ipywidgets>=7.5.1->neuralprophet) (4.0.5)\n",
      "Requirement already satisfied: jupyterlab-widgets~=3.0 in f:\\apps\\anaconda\\envs\\nenv\\lib\\site-packages (from ipywidgets>=7.5.1->neuralprophet) (3.0.5)\n",
      "Requirement already satisfied: ephem>=3.7.5.3 in f:\\apps\\anaconda\\envs\\nenv\\lib\\site-packages (from LunarCalendar>=0.0.9->neuralprophet) (4.1.2)\n",
      "Requirement already satisfied: pytz in f:\\apps\\anaconda\\envs\\nenv\\lib\\site-packages (from LunarCalendar>=0.0.9->neuralprophet) (2023.3.post1)\n",
      "Requirement already satisfied: cycler>=0.10 in f:\\apps\\anaconda\\envs\\nenv\\lib\\site-packages (from matplotlib>=2.0.0->neuralprophet) (0.11.0)\n",
      "Requirement already satisfied: kiwisolver>=1.0.1 in f:\\apps\\anaconda\\envs\\nenv\\lib\\site-packages (from matplotlib>=2.0.0->neuralprophet) (1.4.4)\n",
      "Requirement already satisfied: pillow>=6.2.0 in f:\\apps\\anaconda\\envs\\nenv\\lib\\site-packages (from matplotlib>=2.0.0->neuralprophet) (10.0.1)\n",
      "Requirement already satisfied: pyparsing>=2.2.1 in f:\\apps\\anaconda\\envs\\nenv\\lib\\site-packages (from matplotlib>=2.0.0->neuralprophet) (3.1.1)\n",
      "Requirement already satisfied: six>=1.5 in f:\\apps\\anaconda\\envs\\nenv\\lib\\site-packages (from python-dateutil>=2.8.0->neuralprophet) (1.16.0)\n",
      "Requirement already satisfied: filelock in f:\\apps\\anaconda\\envs\\nenv\\lib\\site-packages (from torch>=1.4.0->neuralprophet) (3.12.4)\n",
      "Requirement already satisfied: typing-extensions in f:\\apps\\anaconda\\envs\\nenv\\lib\\site-packages (from torch>=1.4.0->neuralprophet) (4.7.1)\n",
      "Requirement already satisfied: sympy in f:\\apps\\anaconda\\envs\\nenv\\lib\\site-packages (from torch>=1.4.0->neuralprophet) (1.12)\n",
      "Requirement already satisfied: networkx in f:\\apps\\anaconda\\envs\\nenv\\lib\\site-packages (from torch>=1.4.0->neuralprophet) (3.1)\n",
      "Requirement already satisfied: jinja2 in f:\\apps\\anaconda\\envs\\nenv\\lib\\site-packages (from torch>=1.4.0->neuralprophet) (3.1.2)\n",
      "Requirement already satisfied: packaging in f:\\apps\\anaconda\\envs\\nenv\\lib\\site-packages (from torch-lr-finder>=0.2.1->neuralprophet) (23.1)\n",
      "Requirement already satisfied: colorama in f:\\apps\\anaconda\\envs\\nenv\\lib\\site-packages (from tqdm>=4.50.2->neuralprophet) (0.4.6)\n",
      "Requirement already satisfied: comm>=0.1.1 in f:\\apps\\anaconda\\envs\\nenv\\lib\\site-packages (from ipykernel>=4.5.1->ipywidgets>=7.5.1->neuralprophet) (0.1.2)\n",
      "Requirement already satisfied: debugpy>=1.6.5 in f:\\apps\\anaconda\\envs\\nenv\\lib\\site-packages (from ipykernel>=4.5.1->ipywidgets>=7.5.1->neuralprophet) (1.6.7)\n",
      "Requirement already satisfied: jupyter-client>=6.1.12 in f:\\apps\\anaconda\\envs\\nenv\\lib\\site-packages (from ipykernel>=4.5.1->ipywidgets>=7.5.1->neuralprophet) (7.4.9)\n",
      "Requirement already satisfied: jupyter-core!=5.0.*,>=4.12 in f:\\apps\\anaconda\\envs\\nenv\\lib\\site-packages (from ipykernel>=4.5.1->ipywidgets>=7.5.1->neuralprophet) (5.3.0)\n",
      "Requirement already satisfied: matplotlib-inline>=0.1 in f:\\apps\\anaconda\\envs\\nenv\\lib\\site-packages (from ipykernel>=4.5.1->ipywidgets>=7.5.1->neuralprophet) (0.1.6)\n",
      "Requirement already satisfied: nest-asyncio in f:\\apps\\anaconda\\envs\\nenv\\lib\\site-packages (from ipykernel>=4.5.1->ipywidgets>=7.5.1->neuralprophet) (1.5.6)\n",
      "Requirement already satisfied: psutil in f:\\apps\\anaconda\\envs\\nenv\\lib\\site-packages (from ipykernel>=4.5.1->ipywidgets>=7.5.1->neuralprophet) (5.9.0)\n",
      "Requirement already satisfied: pyzmq>=20 in f:\\apps\\anaconda\\envs\\nenv\\lib\\site-packages (from ipykernel>=4.5.1->ipywidgets>=7.5.1->neuralprophet) (23.2.0)\n",
      "Requirement already satisfied: tornado>=6.1 in f:\\apps\\anaconda\\envs\\nenv\\lib\\site-packages (from ipykernel>=4.5.1->ipywidgets>=7.5.1->neuralprophet) (6.3.2)\n",
      "Requirement already satisfied: backcall in f:\\apps\\anaconda\\envs\\nenv\\lib\\site-packages (from ipython>=6.1.0->ipywidgets>=7.5.1->neuralprophet) (0.2.0)\n",
      "Requirement already satisfied: decorator in f:\\apps\\anaconda\\envs\\nenv\\lib\\site-packages (from ipython>=6.1.0->ipywidgets>=7.5.1->neuralprophet) (5.1.1)\n",
      "Requirement already satisfied: jedi>=0.16 in f:\\apps\\anaconda\\envs\\nenv\\lib\\site-packages (from ipython>=6.1.0->ipywidgets>=7.5.1->neuralprophet) (0.18.1)\n",
      "Requirement already satisfied: pickleshare in f:\\apps\\anaconda\\envs\\nenv\\lib\\site-packages (from ipython>=6.1.0->ipywidgets>=7.5.1->neuralprophet) (0.7.5)\n",
      "Requirement already satisfied: prompt-toolkit!=3.0.37,<3.1.0,>=3.0.30 in f:\\apps\\anaconda\\envs\\nenv\\lib\\site-packages (from ipython>=6.1.0->ipywidgets>=7.5.1->neuralprophet) (3.0.36)\n",
      "Requirement already satisfied: pygments>=2.4.0 in f:\\apps\\anaconda\\envs\\nenv\\lib\\site-packages (from ipython>=6.1.0->ipywidgets>=7.5.1->neuralprophet) (2.15.1)\n",
      "Requirement already satisfied: stack-data in f:\\apps\\anaconda\\envs\\nenv\\lib\\site-packages (from ipython>=6.1.0->ipywidgets>=7.5.1->neuralprophet) (0.2.0)\n",
      "Requirement already satisfied: exceptiongroup in f:\\apps\\anaconda\\envs\\nenv\\lib\\site-packages (from ipython>=6.1.0->ipywidgets>=7.5.1->neuralprophet) (1.0.4)\n",
      "Requirement already satisfied: MarkupSafe>=2.0 in f:\\apps\\anaconda\\envs\\nenv\\lib\\site-packages (from jinja2->torch>=1.4.0->neuralprophet) (2.1.1)\n",
      "Requirement already satisfied: mpmath>=0.19 in f:\\apps\\anaconda\\envs\\nenv\\lib\\site-packages (from sympy->torch>=1.4.0->neuralprophet) (1.3.0)\n",
      "Requirement already satisfied: parso<0.9.0,>=0.8.0 in f:\\apps\\anaconda\\envs\\nenv\\lib\\site-packages (from jedi>=0.16->ipython>=6.1.0->ipywidgets>=7.5.1->neuralprophet) (0.8.3)\n",
      "Requirement already satisfied: entrypoints in f:\\apps\\anaconda\\envs\\nenv\\lib\\site-packages (from jupyter-client>=6.1.12->ipykernel>=4.5.1->ipywidgets>=7.5.1->neuralprophet) (0.4)\n",
      "Requirement already satisfied: platformdirs>=2.5 in f:\\apps\\anaconda\\envs\\nenv\\lib\\site-packages (from jupyter-core!=5.0.*,>=4.12->ipykernel>=4.5.1->ipywidgets>=7.5.1->neuralprophet) (3.10.0)\n",
      "Requirement already satisfied: pywin32>=300 in f:\\apps\\anaconda\\envs\\nenv\\lib\\site-packages (from jupyter-core!=5.0.*,>=4.12->ipykernel>=4.5.1->ipywidgets>=7.5.1->neuralprophet) (305.1)\n",
      "Requirement already satisfied: wcwidth in f:\\apps\\anaconda\\envs\\nenv\\lib\\site-packages (from prompt-toolkit!=3.0.37,<3.1.0,>=3.0.30->ipython>=6.1.0->ipywidgets>=7.5.1->neuralprophet) (0.2.5)\n",
      "Requirement already satisfied: executing in f:\\apps\\anaconda\\envs\\nenv\\lib\\site-packages (from stack-data->ipython>=6.1.0->ipywidgets>=7.5.1->neuralprophet) (0.8.3)\n",
      "Requirement already satisfied: asttokens in f:\\apps\\anaconda\\envs\\nenv\\lib\\site-packages (from stack-data->ipython>=6.1.0->ipywidgets>=7.5.1->neuralprophet) (2.0.5)\n",
      "Requirement already satisfied: pure-eval in f:\\apps\\anaconda\\envs\\nenv\\lib\\site-packages (from stack-data->ipython>=6.1.0->ipywidgets>=7.5.1->neuralprophet) (0.2.2)\n"
     ]
    }
   ],
   "source": [
    "!pip install neuralprophet"
   ]
  },
  {
   "cell_type": "code",
   "execution_count": null,
   "metadata": {},
   "outputs": [],
   "source": []
  },
  {
   "cell_type": "code",
   "execution_count": null,
   "metadata": {},
   "outputs": [],
   "source": []
  },
  {
   "cell_type": "code",
   "execution_count": null,
   "metadata": {},
   "outputs": [],
   "source": [
    "# https://www.kaggle.com/jsphyg/weather-dataset-rattle-package"
   ]
  },
  {
   "cell_type": "code",
   "execution_count": 3,
   "metadata": {},
   "outputs": [
    {
     "ename": "TypeError",
     "evalue": "This is a python-holidays entity loader class. For entity inheritance purposes please import a class you want to derive from directly: e.g., `from holidays.countries import Entity` or `from holidays.financial import Entity`.",
     "output_type": "error",
     "traceback": [
      "\u001b[1;31m---------------------------------------------------------------------------\u001b[0m",
      "\u001b[1;31mTypeError\u001b[0m                                 Traceback (most recent call last)",
      "Cell \u001b[1;32mIn[3], line 2\u001b[0m\n\u001b[0;32m      1\u001b[0m \u001b[38;5;28;01mimport\u001b[39;00m \u001b[38;5;21;01mpandas\u001b[39;00m \u001b[38;5;28;01mas\u001b[39;00m \u001b[38;5;21;01mpd\u001b[39;00m\n\u001b[1;32m----> 2\u001b[0m \u001b[38;5;28;01mfrom\u001b[39;00m \u001b[38;5;21;01mneuralprophet\u001b[39;00m \u001b[38;5;28;01mimport\u001b[39;00m NeuralProphet\n\u001b[0;32m      3\u001b[0m \u001b[38;5;28;01mfrom\u001b[39;00m \u001b[38;5;21;01mmatplotlib\u001b[39;00m \u001b[38;5;28;01mimport\u001b[39;00m pyplot \u001b[38;5;28;01mas\u001b[39;00m plt\n\u001b[0;32m      4\u001b[0m \u001b[38;5;28;01mimport\u001b[39;00m \u001b[38;5;21;01mpickle\u001b[39;00m\n",
      "File \u001b[1;32mF:\\apps\\anaconda\\envs\\nenv\\lib\\site-packages\\neuralprophet\\__init__.py:25\u001b[0m\n\u001b[0;32m     22\u001b[0m     log\u001b[38;5;241m.\u001b[39maddHandler(f_handler)\n\u001b[0;32m     23\u001b[0m     warnings_log\u001b[38;5;241m.\u001b[39maddHandler(f_handler)\n\u001b[1;32m---> 25\u001b[0m \u001b[38;5;28;01mfrom\u001b[39;00m \u001b[38;5;21;01m.\u001b[39;00m\u001b[38;5;21;01mforecaster\u001b[39;00m \u001b[38;5;28;01mimport\u001b[39;00m NeuralProphet\n\u001b[0;32m     26\u001b[0m \u001b[38;5;28;01mfrom\u001b[39;00m \u001b[38;5;21;01m.\u001b[39;00m\u001b[38;5;21;01mutils\u001b[39;00m \u001b[38;5;28;01mimport\u001b[39;00m set_random_seed, set_log_level\n\u001b[0;32m     27\u001b[0m \u001b[38;5;28;01mfrom\u001b[39;00m \u001b[38;5;21;01m.\u001b[39;00m\u001b[38;5;21;01mdf_utils\u001b[39;00m \u001b[38;5;28;01mimport\u001b[39;00m split_df\n",
      "File \u001b[1;32mF:\\apps\\anaconda\\envs\\nenv\\lib\\site-packages\\neuralprophet\\forecaster.py:11\u001b[0m\n\u001b[0;32m      8\u001b[0m \u001b[38;5;28;01mimport\u001b[39;00m \u001b[38;5;21;01mlogging\u001b[39;00m\n\u001b[0;32m      9\u001b[0m \u001b[38;5;28;01mfrom\u001b[39;00m \u001b[38;5;21;01mtqdm\u001b[39;00m \u001b[38;5;28;01mimport\u001b[39;00m tqdm\n\u001b[1;32m---> 11\u001b[0m \u001b[38;5;28;01mfrom\u001b[39;00m \u001b[38;5;21;01mneuralprophet\u001b[39;00m \u001b[38;5;28;01mimport\u001b[39;00m configure\n\u001b[0;32m     12\u001b[0m \u001b[38;5;28;01mfrom\u001b[39;00m \u001b[38;5;21;01mneuralprophet\u001b[39;00m \u001b[38;5;28;01mimport\u001b[39;00m time_net\n\u001b[0;32m     13\u001b[0m \u001b[38;5;28;01mfrom\u001b[39;00m \u001b[38;5;21;01mneuralprophet\u001b[39;00m \u001b[38;5;28;01mimport\u001b[39;00m time_dataset\n",
      "File \u001b[1;32mF:\\apps\\anaconda\\envs\\nenv\\lib\\site-packages\\neuralprophet\\configure.py:12\u001b[0m\n\u001b[0;32m      9\u001b[0m \u001b[38;5;28;01mimport\u001b[39;00m \u001b[38;5;21;01mmath\u001b[39;00m\n\u001b[0;32m     10\u001b[0m \u001b[38;5;28;01mimport\u001b[39;00m \u001b[38;5;21;01mtypes\u001b[39;00m\n\u001b[1;32m---> 12\u001b[0m \u001b[38;5;28;01mfrom\u001b[39;00m \u001b[38;5;21;01mneuralprophet\u001b[39;00m \u001b[38;5;28;01mimport\u001b[39;00m utils_torch, utils, df_utils\n\u001b[0;32m     14\u001b[0m log \u001b[38;5;241m=\u001b[39m logging\u001b[38;5;241m.\u001b[39mgetLogger(\u001b[38;5;124m\"\u001b[39m\u001b[38;5;124mNP.config\u001b[39m\u001b[38;5;124m\"\u001b[39m)\n\u001b[0;32m     17\u001b[0m \u001b[38;5;28;01mdef\u001b[39;00m \u001b[38;5;21mfrom_kwargs\u001b[39m(\u001b[38;5;28mcls\u001b[39m, kwargs):\n",
      "File \u001b[1;32mF:\\apps\\anaconda\\envs\\nenv\\lib\\site-packages\\neuralprophet\\utils_torch.py:8\u001b[0m\n\u001b[0;32m      5\u001b[0m \u001b[38;5;28;01mimport\u001b[39;00m \u001b[38;5;21;01minspect\u001b[39;00m\n\u001b[0;32m      6\u001b[0m \u001b[38;5;28;01mfrom\u001b[39;00m \u001b[38;5;21;01mtorch_lr_finder\u001b[39;00m \u001b[38;5;28;01mimport\u001b[39;00m LRFinder\n\u001b[1;32m----> 8\u001b[0m \u001b[38;5;28;01mfrom\u001b[39;00m \u001b[38;5;21;01mneuralprophet\u001b[39;00m \u001b[38;5;28;01mimport\u001b[39;00m utils\n\u001b[0;32m     10\u001b[0m log \u001b[38;5;241m=\u001b[39m logging\u001b[38;5;241m.\u001b[39mgetLogger(\u001b[38;5;124m\"\u001b[39m\u001b[38;5;124mNP.utils_torch\u001b[39m\u001b[38;5;124m\"\u001b[39m)\n\u001b[0;32m     13\u001b[0m \u001b[38;5;28;01mdef\u001b[39;00m \u001b[38;5;21mpenalize_nonzero\u001b[39m(weights, eagerness\u001b[38;5;241m=\u001b[39m\u001b[38;5;241m1.0\u001b[39m, acceptance\u001b[38;5;241m=\u001b[39m\u001b[38;5;241m1.0\u001b[39m):\n",
      "File \u001b[1;32mF:\\apps\\anaconda\\envs\\nenv\\lib\\site-packages\\neuralprophet\\utils.py:8\u001b[0m\n\u001b[0;32m      6\u001b[0m \u001b[38;5;28;01mimport\u001b[39;00m \u001b[38;5;21;01mtorch\u001b[39;00m\n\u001b[0;32m      7\u001b[0m \u001b[38;5;28;01mfrom\u001b[39;00m \u001b[38;5;21;01mcollections\u001b[39;00m \u001b[38;5;28;01mimport\u001b[39;00m OrderedDict\n\u001b[1;32m----> 8\u001b[0m \u001b[38;5;28;01mfrom\u001b[39;00m \u001b[38;5;21;01mneuralprophet\u001b[39;00m \u001b[38;5;28;01mimport\u001b[39;00m hdays \u001b[38;5;28;01mas\u001b[39;00m hdays_part2\n\u001b[0;32m      9\u001b[0m \u001b[38;5;28;01mimport\u001b[39;00m \u001b[38;5;21;01mholidays\u001b[39;00m \u001b[38;5;28;01mas\u001b[39;00m \u001b[38;5;21;01mpyholidays\u001b[39;00m\n\u001b[0;32m     10\u001b[0m \u001b[38;5;28;01mimport\u001b[39;00m \u001b[38;5;21;01mwarnings\u001b[39;00m\n",
      "File \u001b[1;32mF:\\apps\\anaconda\\envs\\nenv\\lib\\site-packages\\neuralprophet\\hdays.py:433\u001b[0m\n\u001b[0;32m    425\u001b[0m     \u001b[38;5;28;01mpass\u001b[39;00m\n\u001b[0;32m    428\u001b[0m \u001b[38;5;66;03m# ------------ Holidays in Turkey---------------------\u001b[39;00m\n\u001b[0;32m    429\u001b[0m \u001b[38;5;66;03m# This is now in Holidays, but with alias TR instead of the TU that we used.\u001b[39;00m\n\u001b[0;32m    430\u001b[0m \u001b[38;5;66;03m# Include TU as an alias for backwards compatibility.\u001b[39;00m\n\u001b[1;32m--> 433\u001b[0m \u001b[38;5;28;01mclass\u001b[39;00m \u001b[38;5;21;01mTU\u001b[39;00m(Turkey):\n\u001b[0;32m    434\u001b[0m     \u001b[38;5;28;01mpass\u001b[39;00m\n\u001b[0;32m    437\u001b[0m \u001b[38;5;66;03m# ------------ Holidays in Pakistan---------------------\u001b[39;00m\n",
      "File \u001b[1;32mF:\\apps\\anaconda\\envs\\nenv\\lib\\site-packages\\holidays\\registry.py:175\u001b[0m, in \u001b[0;36mEntityLoader.__init__\u001b[1;34m(self, path, *args, **kwargs)\u001b[0m\n\u001b[0;32m    173\u001b[0m \u001b[38;5;250m\u001b[39m\u001b[38;5;124;03m\"\"\"Set up a lazy loader.\"\"\"\u001b[39;00m\n\u001b[0;32m    174\u001b[0m \u001b[38;5;28;01mif\u001b[39;00m args:\n\u001b[1;32m--> 175\u001b[0m     \u001b[38;5;28;01mraise\u001b[39;00m \u001b[38;5;167;01mTypeError\u001b[39;00m(\n\u001b[0;32m    176\u001b[0m         \u001b[38;5;124m\"\u001b[39m\u001b[38;5;124mThis is a python-holidays entity loader class. \u001b[39m\u001b[38;5;124m\"\u001b[39m\n\u001b[0;32m    177\u001b[0m         \u001b[38;5;124m\"\u001b[39m\u001b[38;5;124mFor entity inheritance purposes please import a class you \u001b[39m\u001b[38;5;124m\"\u001b[39m\n\u001b[0;32m    178\u001b[0m         \u001b[38;5;124m\"\u001b[39m\u001b[38;5;124mwant to derive from directly: e.g., \u001b[39m\u001b[38;5;124m\"\u001b[39m\n\u001b[0;32m    179\u001b[0m         \u001b[38;5;124m\"\u001b[39m\u001b[38;5;124m`from holidays.countries import Entity` or \u001b[39m\u001b[38;5;124m\"\u001b[39m\n\u001b[0;32m    180\u001b[0m         \u001b[38;5;124m\"\u001b[39m\u001b[38;5;124m`from holidays.financial import Entity`.\u001b[39m\u001b[38;5;124m\"\u001b[39m\n\u001b[0;32m    181\u001b[0m     )\n\u001b[0;32m    183\u001b[0m entity_path \u001b[38;5;241m=\u001b[39m path\u001b[38;5;241m.\u001b[39msplit(\u001b[38;5;124m\"\u001b[39m\u001b[38;5;124m.\u001b[39m\u001b[38;5;124m\"\u001b[39m)\n\u001b[0;32m    185\u001b[0m \u001b[38;5;28mself\u001b[39m\u001b[38;5;241m.\u001b[39mentity \u001b[38;5;241m=\u001b[39m \u001b[38;5;28;01mNone\u001b[39;00m\n",
      "\u001b[1;31mTypeError\u001b[0m: This is a python-holidays entity loader class. For entity inheritance purposes please import a class you want to derive from directly: e.g., `from holidays.countries import Entity` or `from holidays.financial import Entity`."
     ]
    }
   ],
   "source": [
    "import pandas as pd\n",
    "from neuralprophet import NeuralProphet\n",
    "from matplotlib import pyplot as plt\n",
    "import pickle"
   ]
  },
  {
   "cell_type": "code",
   "execution_count": null,
   "metadata": {},
   "outputs": [],
   "source": []
  },
  {
   "cell_type": "code",
   "execution_count": null,
   "metadata": {},
   "outputs": [],
   "source": []
  },
  {
   "cell_type": "markdown",
   "metadata": {},
   "source": [
    "# 1. Read in Data and Process Dates"
   ]
  },
  {
   "cell_type": "code",
   "execution_count": null,
   "metadata": {},
   "outputs": [],
   "source": [
    "df = pd.read_csv('weatherAUS.csv')\n",
    "df.head()"
   ]
  },
  {
   "cell_type": "code",
   "execution_count": null,
   "metadata": {},
   "outputs": [],
   "source": []
  },
  {
   "cell_type": "code",
   "execution_count": null,
   "metadata": {},
   "outputs": [],
   "source": [
    "df.Location.unique()"
   ]
  },
  {
   "cell_type": "code",
   "execution_count": null,
   "metadata": {},
   "outputs": [],
   "source": [
    "df.columns"
   ]
  },
  {
   "cell_type": "code",
   "execution_count": null,
   "metadata": {},
   "outputs": [],
   "source": [
    "melb = df[df['Location']=='Melbourne']\n",
    "melb['Date'] = pd.to_datetime(melb['Date'])\n",
    "melb.head()"
   ]
  },
  {
   "cell_type": "code",
   "execution_count": null,
   "metadata": {},
   "outputs": [],
   "source": [
    "plt.plot(melb['Date'], melb['Temp3pm'])\n",
    "plt.show()"
   ]
  },
  {
   "cell_type": "code",
   "execution_count": null,
   "metadata": {},
   "outputs": [],
   "source": [
    "melb['Year'] = melb['Date'].apply(lambda x: x.year)\n",
    "melb = melb[melb['Year']<=2015]\n",
    "plt.plot(melb['Date'], melb['Temp3pm'])\n",
    "plt.show()"
   ]
  },
  {
   "cell_type": "code",
   "execution_count": null,
   "metadata": {},
   "outputs": [],
   "source": [
    "data = melb[['Date', 'Temp3pm']] \n",
    "data.dropna(inplace=True)\n",
    "data.columns = ['ds', 'y'] \n",
    "data.head()"
   ]
  },
  {
   "cell_type": "markdown",
   "metadata": {},
   "source": [
    "# 2. Train Model"
   ]
  },
  {
   "cell_type": "code",
   "execution_count": null,
   "metadata": {},
   "outputs": [],
   "source": [
    "m = NeuralProphet()"
   ]
  },
  {
   "cell_type": "code",
   "execution_count": null,
   "metadata": {},
   "outputs": [],
   "source": [
    "model = m.fit(data, freq='D', epochs=1000)"
   ]
  },
  {
   "cell_type": "markdown",
   "metadata": {},
   "source": [
    "# 3. Forecast Away"
   ]
  },
  {
   "cell_type": "code",
   "execution_count": null,
   "metadata": {},
   "outputs": [],
   "source": [
    "future = m.make_future_dataframe(data, periods=900)\n",
    "forecast = m.predict(future)\n",
    "forecast.head()"
   ]
  },
  {
   "cell_type": "code",
   "execution_count": null,
   "metadata": {},
   "outputs": [],
   "source": [
    "plot1 = m.plot(forecast)"
   ]
  },
  {
   "cell_type": "code",
   "execution_count": null,
   "metadata": {
    "scrolled": true
   },
   "outputs": [],
   "source": [
    "plt2 = m.plot_components(forecast)"
   ]
  },
  {
   "cell_type": "markdown",
   "metadata": {},
   "source": [
    "# 4. Save Model"
   ]
  },
  {
   "cell_type": "code",
   "execution_count": null,
   "metadata": {},
   "outputs": [],
   "source": [
    "with open('saved_model.pkl', \"wb\") as f:\n",
    "    pickle.dump(m, f)"
   ]
  },
  {
   "cell_type": "code",
   "execution_count": null,
   "metadata": {},
   "outputs": [],
   "source": [
    "del m"
   ]
  },
  {
   "cell_type": "code",
   "execution_count": null,
   "metadata": {},
   "outputs": [],
   "source": [
    "with open('saved_model.pkl', \"rb\") as f:\n",
    "    m = pickle.load(f)"
   ]
  },
  {
   "cell_type": "code",
   "execution_count": null,
   "metadata": {},
   "outputs": [],
   "source": [
    "future = m.make_future_dataframe(data, periods=900)\n",
    "forecast = m.predict(future)\n",
    "forecast.head()"
   ]
  },
  {
   "cell_type": "code",
   "execution_count": null,
   "metadata": {},
   "outputs": [],
   "source": [
    "plot1 = m.plot(forecast)"
   ]
  },
  {
   "cell_type": "code",
   "execution_count": null,
   "metadata": {},
   "outputs": [],
   "source": []
  }
 ],
 "metadata": {
  "kernelspec": {
   "display_name": "Python 3 (ipykernel)",
   "language": "python",
   "name": "python3"
  },
  "language_info": {
   "codemirror_mode": {
    "name": "ipython",
    "version": 3
   },
   "file_extension": ".py",
   "mimetype": "text/x-python",
   "name": "python",
   "nbconvert_exporter": "python",
   "pygments_lexer": "ipython3",
   "version": "3.10.13"
  }
 },
 "nbformat": 4,
 "nbformat_minor": 2
}
