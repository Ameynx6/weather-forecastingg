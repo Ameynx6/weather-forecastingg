{
 "cells": [
  {
   "cell_type": "code",
   "execution_count": 1,
   "id": "ab9588a6",
   "metadata": {},
   "outputs": [],
   "source": [
    "import pandas as pd\n",
    "from neuralprophet import NeuralProphet\n",
    "from matplotlib import pyplot as plt\n",
    "import pickle\n"
   ]
  },
  {
   "cell_type": "code",
   "execution_count": 2,
   "id": "fb5520cd",
   "metadata": {},
   "outputs": [
    {
     "data": {
      "text/html": [
       "<div>\n",
       "<style scoped>\n",
       "    .dataframe tbody tr th:only-of-type {\n",
       "        vertical-align: middle;\n",
       "    }\n",
       "\n",
       "    .dataframe tbody tr th {\n",
       "        vertical-align: top;\n",
       "    }\n",
       "\n",
       "    .dataframe thead th {\n",
       "        text-align: right;\n",
       "    }\n",
       "</style>\n",
       "<table border=\"1\" class=\"dataframe\">\n",
       "  <thead>\n",
       "    <tr style=\"text-align: right;\">\n",
       "      <th></th>\n",
       "      <th>time</th>\n",
       "      <th>tavg</th>\n",
       "      <th>tmin</th>\n",
       "      <th>tmax</th>\n",
       "      <th>prcp</th>\n",
       "    </tr>\n",
       "  </thead>\n",
       "  <tbody>\n",
       "    <tr>\n",
       "      <th>0</th>\n",
       "      <td>01-01-1990</td>\n",
       "      <td>25.2</td>\n",
       "      <td>22.8</td>\n",
       "      <td>28.4</td>\n",
       "      <td>0.5</td>\n",
       "    </tr>\n",
       "    <tr>\n",
       "      <th>1</th>\n",
       "      <td>02-01-1990</td>\n",
       "      <td>24.9</td>\n",
       "      <td>21.7</td>\n",
       "      <td>29.1</td>\n",
       "      <td>0.0</td>\n",
       "    </tr>\n",
       "    <tr>\n",
       "      <th>2</th>\n",
       "      <td>03-01-1990</td>\n",
       "      <td>25.6</td>\n",
       "      <td>21.4</td>\n",
       "      <td>29.8</td>\n",
       "      <td>0.0</td>\n",
       "    </tr>\n",
       "    <tr>\n",
       "      <th>3</th>\n",
       "      <td>04-01-1990</td>\n",
       "      <td>25.7</td>\n",
       "      <td>NaN</td>\n",
       "      <td>28.7</td>\n",
       "      <td>0.0</td>\n",
       "    </tr>\n",
       "    <tr>\n",
       "      <th>4</th>\n",
       "      <td>05-01-1990</td>\n",
       "      <td>25.5</td>\n",
       "      <td>20.7</td>\n",
       "      <td>28.4</td>\n",
       "      <td>0.0</td>\n",
       "    </tr>\n",
       "  </tbody>\n",
       "</table>\n",
       "</div>"
      ],
      "text/plain": [
       "         time  tavg  tmin  tmax  prcp\n",
       "0  01-01-1990  25.2  22.8  28.4   0.5\n",
       "1  02-01-1990  24.9  21.7  29.1   0.0\n",
       "2  03-01-1990  25.6  21.4  29.8   0.0\n",
       "3  04-01-1990  25.7   NaN  28.7   0.0\n",
       "4  05-01-1990  25.5  20.7  28.4   0.0"
      ]
     },
     "execution_count": 2,
     "metadata": {},
     "output_type": "execute_result"
    }
   ],
   "source": [
    "df = pd.read_csv(r\"C:\\Users\\Amey\\PycharmProjects\\weather forecasting\\wdata\\Temperature_And_Precipitation_Cities_IN\\Chennai_1990_2022_Madras.csv\")\n",
    "df.head()"
   ]
  },
  {
   "cell_type": "code",
   "execution_count": 3,
   "id": "cfdee35c",
   "metadata": {},
   "outputs": [
    {
     "data": {
      "text/plain": [
       "Index(['time', 'tavg', 'tmin', 'tmax', 'prcp'], dtype='object')"
      ]
     },
     "execution_count": 3,
     "metadata": {},
     "output_type": "execute_result"
    }
   ],
   "source": [
    "df.columns"
   ]
  },
  {
   "cell_type": "code",
   "execution_count": 4,
   "id": "befff760",
   "metadata": {},
   "outputs": [
    {
     "data": {
      "text/plain": [
       "time     object\n",
       "tavg    float64\n",
       "tmin    float64\n",
       "tmax    float64\n",
       "prcp    float64\n",
       "dtype: object"
      ]
     },
     "execution_count": 4,
     "metadata": {},
     "output_type": "execute_result"
    }
   ],
   "source": [
    "df.dtypes"
   ]
  },
  {
   "cell_type": "code",
   "execution_count": 5,
   "id": "c0b4b797",
   "metadata": {},
   "outputs": [],
   "source": [
    "df['time'] = pd.to_datetime(df['time'], format='%d-%m-%Y')"
   ]
  },
  {
   "cell_type": "code",
   "execution_count": 6,
   "id": "7b7e3962",
   "metadata": {},
   "outputs": [
    {
     "name": "stderr",
     "output_type": "stream",
     "text": [
      "WARNING - (py.warnings._showwarnmsg) - C:\\Users\\Amey\\AppData\\Local\\Temp\\ipykernel_33216\\1627567933.py:2: SettingWithCopyWarning: \n",
      "A value is trying to be set on a copy of a slice from a DataFrame\n",
      "\n",
      "See the caveats in the documentation: https://pandas.pydata.org/pandas-docs/stable/user_guide/indexing.html#returning-a-view-versus-a-copy\n",
      "  data.dropna(inplace=True)\n",
      "\n"
     ]
    },
    {
     "data": {
      "text/html": [
       "<div>\n",
       "<style scoped>\n",
       "    .dataframe tbody tr th:only-of-type {\n",
       "        vertical-align: middle;\n",
       "    }\n",
       "\n",
       "    .dataframe tbody tr th {\n",
       "        vertical-align: top;\n",
       "    }\n",
       "\n",
       "    .dataframe thead th {\n",
       "        text-align: right;\n",
       "    }\n",
       "</style>\n",
       "<table border=\"1\" class=\"dataframe\">\n",
       "  <thead>\n",
       "    <tr style=\"text-align: right;\">\n",
       "      <th></th>\n",
       "      <th>ds</th>\n",
       "      <th>y</th>\n",
       "    </tr>\n",
       "  </thead>\n",
       "  <tbody>\n",
       "    <tr>\n",
       "      <th>0</th>\n",
       "      <td>1990-01-01</td>\n",
       "      <td>0.5</td>\n",
       "    </tr>\n",
       "    <tr>\n",
       "      <th>1</th>\n",
       "      <td>1990-01-02</td>\n",
       "      <td>0.0</td>\n",
       "    </tr>\n",
       "    <tr>\n",
       "      <th>2</th>\n",
       "      <td>1990-01-03</td>\n",
       "      <td>0.0</td>\n",
       "    </tr>\n",
       "    <tr>\n",
       "      <th>3</th>\n",
       "      <td>1990-01-04</td>\n",
       "      <td>0.0</td>\n",
       "    </tr>\n",
       "    <tr>\n",
       "      <th>4</th>\n",
       "      <td>1990-01-05</td>\n",
       "      <td>0.0</td>\n",
       "    </tr>\n",
       "  </tbody>\n",
       "</table>\n",
       "</div>"
      ],
      "text/plain": [
       "          ds    y\n",
       "0 1990-01-01  0.5\n",
       "1 1990-01-02  0.0\n",
       "2 1990-01-03  0.0\n",
       "3 1990-01-04  0.0\n",
       "4 1990-01-05  0.0"
      ]
     },
     "execution_count": 6,
     "metadata": {},
     "output_type": "execute_result"
    }
   ],
   "source": [
    "data=df[['time','prcp']]\n",
    "data.dropna(inplace=True)\n",
    "data.columns=['ds','y']\n",
    "data.head()"
   ]
  },
  {
   "cell_type": "code",
   "execution_count": 7,
   "id": "5044342a",
   "metadata": {},
   "outputs": [
    {
     "name": "stderr",
     "output_type": "stream",
     "text": [
      "WARNING - (NP.forecaster.fit) - When Global modeling with local normalization, metrics are displayed in normalized scale.\n",
      "INFO - (NP.df_utils._infer_frequency) - Major frequency D corresponds to 87.657% of the data.\n",
      "INFO - (NP.df_utils._infer_frequency) - Defined frequency is equal to major frequency - D\n",
      "INFO - (NP.config.init_data_params) - Setting normalization to global as only one dataframe provided for training.\n",
      "INFO - (NP.utils.set_auto_seasonalities) - Disabling daily seasonality. Run NeuralProphet with daily_seasonality=True to override this.\n",
      "INFO - (NP.config.set_auto_batch_epoch) - Auto-set batch_size to 32\n",
      "WARNING - (NP.config.set_lr_finder_args) - Learning rate finder: The number of batches (219) is too small than the required number                     for the learning rate finder (246). The results might not be optimal.\n"
     ]
    },
    {
     "data": {
      "application/vnd.jupyter.widget-view+json": {
       "model_id": "c9db8aff648348a8b2315d0313728abf",
       "version_major": 2,
       "version_minor": 0
      },
      "text/plain": [
       "Finding best initial lr:   0%|          | 0/246 [00:00<?, ?it/s]"
      ]
     },
     "metadata": {},
     "output_type": "display_data"
    },
    {
     "data": {
      "application/vnd.jupyter.widget-view+json": {
       "model_id": "850788c3c6b5444aae5975705949b67f",
       "version_major": 2,
       "version_minor": 0
      },
      "text/plain": [
       "Training: 0it [00:00, ?it/s]"
      ]
     },
     "metadata": {},
     "output_type": "display_data"
    },
    {
     "data": {
      "text/html": [
       "<div>\n",
       "<style scoped>\n",
       "    .dataframe tbody tr th:only-of-type {\n",
       "        vertical-align: middle;\n",
       "    }\n",
       "\n",
       "    .dataframe tbody tr th {\n",
       "        vertical-align: top;\n",
       "    }\n",
       "\n",
       "    .dataframe thead th {\n",
       "        text-align: right;\n",
       "    }\n",
       "</style>\n",
       "<table border=\"1\" class=\"dataframe\">\n",
       "  <thead>\n",
       "    <tr style=\"text-align: right;\">\n",
       "      <th></th>\n",
       "      <th>MAE</th>\n",
       "      <th>RMSE</th>\n",
       "      <th>Loss</th>\n",
       "      <th>RegLoss</th>\n",
       "      <th>epoch</th>\n",
       "    </tr>\n",
       "  </thead>\n",
       "  <tbody>\n",
       "    <tr>\n",
       "      <th>0</th>\n",
       "      <td>38.336113</td>\n",
       "      <td>48.210720</td>\n",
       "      <td>0.460528</td>\n",
       "      <td>0.0</td>\n",
       "      <td>0</td>\n",
       "    </tr>\n",
       "    <tr>\n",
       "      <th>1</th>\n",
       "      <td>33.088531</td>\n",
       "      <td>41.935795</td>\n",
       "      <td>0.368362</td>\n",
       "      <td>0.0</td>\n",
       "      <td>1</td>\n",
       "    </tr>\n",
       "    <tr>\n",
       "      <th>2</th>\n",
       "      <td>28.437895</td>\n",
       "      <td>36.502834</td>\n",
       "      <td>0.290747</td>\n",
       "      <td>0.0</td>\n",
       "      <td>2</td>\n",
       "    </tr>\n",
       "    <tr>\n",
       "      <th>3</th>\n",
       "      <td>24.428108</td>\n",
       "      <td>31.804661</td>\n",
       "      <td>0.226863</td>\n",
       "      <td>0.0</td>\n",
       "      <td>3</td>\n",
       "    </tr>\n",
       "    <tr>\n",
       "      <th>4</th>\n",
       "      <td>20.908453</td>\n",
       "      <td>27.813370</td>\n",
       "      <td>0.176066</td>\n",
       "      <td>0.0</td>\n",
       "      <td>4</td>\n",
       "    </tr>\n",
       "    <tr>\n",
       "      <th>...</th>\n",
       "      <td>...</td>\n",
       "      <td>...</td>\n",
       "      <td>...</td>\n",
       "      <td>...</td>\n",
       "      <td>...</td>\n",
       "    </tr>\n",
       "    <tr>\n",
       "      <th>995</th>\n",
       "      <td>7.578032</td>\n",
       "      <td>15.728404</td>\n",
       "      <td>0.058344</td>\n",
       "      <td>0.0</td>\n",
       "      <td>995</td>\n",
       "    </tr>\n",
       "    <tr>\n",
       "      <th>996</th>\n",
       "      <td>7.578070</td>\n",
       "      <td>15.580493</td>\n",
       "      <td>0.058343</td>\n",
       "      <td>0.0</td>\n",
       "      <td>996</td>\n",
       "    </tr>\n",
       "    <tr>\n",
       "      <th>997</th>\n",
       "      <td>7.578108</td>\n",
       "      <td>15.622566</td>\n",
       "      <td>0.058343</td>\n",
       "      <td>0.0</td>\n",
       "      <td>997</td>\n",
       "    </tr>\n",
       "    <tr>\n",
       "      <th>998</th>\n",
       "      <td>7.578035</td>\n",
       "      <td>15.535907</td>\n",
       "      <td>0.058343</td>\n",
       "      <td>0.0</td>\n",
       "      <td>998</td>\n",
       "    </tr>\n",
       "    <tr>\n",
       "      <th>999</th>\n",
       "      <td>7.578037</td>\n",
       "      <td>15.712193</td>\n",
       "      <td>0.058342</td>\n",
       "      <td>0.0</td>\n",
       "      <td>999</td>\n",
       "    </tr>\n",
       "  </tbody>\n",
       "</table>\n",
       "<p>1000 rows × 5 columns</p>\n",
       "</div>"
      ],
      "text/plain": [
       "           MAE       RMSE      Loss  RegLoss  epoch\n",
       "0    38.336113  48.210720  0.460528      0.0      0\n",
       "1    33.088531  41.935795  0.368362      0.0      1\n",
       "2    28.437895  36.502834  0.290747      0.0      2\n",
       "3    24.428108  31.804661  0.226863      0.0      3\n",
       "4    20.908453  27.813370  0.176066      0.0      4\n",
       "..         ...        ...       ...      ...    ...\n",
       "995   7.578032  15.728404  0.058344      0.0    995\n",
       "996   7.578070  15.580493  0.058343      0.0    996\n",
       "997   7.578108  15.622566  0.058343      0.0    997\n",
       "998   7.578035  15.535907  0.058343      0.0    998\n",
       "999   7.578037  15.712193  0.058342      0.0    999\n",
       "\n",
       "[1000 rows x 5 columns]"
      ]
     },
     "execution_count": 7,
     "metadata": {},
     "output_type": "execute_result"
    }
   ],
   "source": [
    "model=NeuralProphet()  #untrained neuralprophet model\n",
    "model.fit(data,freq='D',epochs=1000)"
   ]
  },
  {
   "cell_type": "code",
   "execution_count": 8,
   "id": "ff154399",
   "metadata": {},
   "outputs": [
    {
     "name": "stderr",
     "output_type": "stream",
     "text": [
      "INFO - (NP.df_utils._infer_frequency) - Major frequency D corresponds to 87.657% of the data.\n",
      "INFO - (NP.df_utils._infer_frequency) - Defined frequency is equal to major frequency - D\n",
      "INFO - (NP.df_utils.return_df_in_original_format) - Returning df with no ID column\n",
      "INFO - (NP.df_utils._infer_frequency) - Major frequency D corresponds to 99.889% of the data.\n",
      "INFO - (NP.df_utils._infer_frequency) - Defined frequency is equal to major frequency - D\n",
      "INFO - (NP.df_utils._infer_frequency) - Major frequency D corresponds to 99.889% of the data.\n",
      "INFO - (NP.df_utils._infer_frequency) - Defined frequency is equal to major frequency - D\n"
     ]
    },
    {
     "data": {
      "application/vnd.jupyter.widget-view+json": {
       "model_id": "929468c0a01742ec8a93a4ab2a99650b",
       "version_major": 2,
       "version_minor": 0
      },
      "text/plain": [
       "Predicting: 219it [00:00, ?it/s]"
      ]
     },
     "metadata": {},
     "output_type": "display_data"
    },
    {
     "name": "stderr",
     "output_type": "stream",
     "text": [
      "INFO - (NP.df_utils.return_df_in_original_format) - Returning df with no ID column\n"
     ]
    },
    {
     "data": {
      "text/html": [
       "<div>\n",
       "<style scoped>\n",
       "    .dataframe tbody tr th:only-of-type {\n",
       "        vertical-align: middle;\n",
       "    }\n",
       "\n",
       "    .dataframe tbody tr th {\n",
       "        vertical-align: top;\n",
       "    }\n",
       "\n",
       "    .dataframe thead th {\n",
       "        text-align: right;\n",
       "    }\n",
       "</style>\n",
       "<table border=\"1\" class=\"dataframe\">\n",
       "  <thead>\n",
       "    <tr style=\"text-align: right;\">\n",
       "      <th></th>\n",
       "      <th>ds</th>\n",
       "      <th>y</th>\n",
       "      <th>yhat1</th>\n",
       "      <th>trend</th>\n",
       "      <th>season_yearly</th>\n",
       "      <th>season_weekly</th>\n",
       "    </tr>\n",
       "  </thead>\n",
       "  <tbody>\n",
       "    <tr>\n",
       "      <th>0</th>\n",
       "      <td>2022-07-26</td>\n",
       "      <td>None</td>\n",
       "      <td>4.225623</td>\n",
       "      <td>4.914614</td>\n",
       "      <td>-0.172615</td>\n",
       "      <td>-0.516377</td>\n",
       "    </tr>\n",
       "    <tr>\n",
       "      <th>1</th>\n",
       "      <td>2022-07-27</td>\n",
       "      <td>None</td>\n",
       "      <td>4.350932</td>\n",
       "      <td>4.914181</td>\n",
       "      <td>-0.146568</td>\n",
       "      <td>-0.416681</td>\n",
       "    </tr>\n",
       "    <tr>\n",
       "      <th>2</th>\n",
       "      <td>2022-07-28</td>\n",
       "      <td>None</td>\n",
       "      <td>5.736339</td>\n",
       "      <td>4.913748</td>\n",
       "      <td>-0.118992</td>\n",
       "      <td>0.941583</td>\n",
       "    </tr>\n",
       "    <tr>\n",
       "      <th>3</th>\n",
       "      <td>2022-07-29</td>\n",
       "      <td>None</td>\n",
       "      <td>4.572459</td>\n",
       "      <td>4.913316</td>\n",
       "      <td>-0.089783</td>\n",
       "      <td>-0.251074</td>\n",
       "    </tr>\n",
       "    <tr>\n",
       "      <th>4</th>\n",
       "      <td>2022-07-30</td>\n",
       "      <td>None</td>\n",
       "      <td>5.297562</td>\n",
       "      <td>4.912882</td>\n",
       "      <td>-0.058804</td>\n",
       "      <td>0.443484</td>\n",
       "    </tr>\n",
       "  </tbody>\n",
       "</table>\n",
       "</div>"
      ],
      "text/plain": [
       "          ds     y     yhat1     trend  season_yearly  season_weekly\n",
       "0 2022-07-26  None  4.225623  4.914614      -0.172615      -0.516377\n",
       "1 2022-07-27  None  4.350932  4.914181      -0.146568      -0.416681\n",
       "2 2022-07-28  None  5.736339  4.913748      -0.118992       0.941583\n",
       "3 2022-07-29  None  4.572459  4.913316      -0.089783      -0.251074\n",
       "4 2022-07-30  None  5.297562  4.912882      -0.058804       0.443484"
      ]
     },
     "execution_count": 8,
     "metadata": {},
     "output_type": "execute_result"
    }
   ],
   "source": [
    "future=model.make_future_dataframe(data,periods=900)\n",
    "forecast=model.predict(future)\n",
    "forecast.head()"
   ]
  },
  {
   "cell_type": "code",
   "execution_count": 9,
   "id": "fa97564d",
   "metadata": {},
   "outputs": [
    {
     "data": {
      "application/vnd.jupyter.widget-view+json": {
       "model_id": "ea9d677e8bc8458181a32cecc5ade833",
       "version_major": 2,
       "version_minor": 0
      },
      "text/plain": [
       "FigureWidgetResampler({\n",
       "    'data': [{'fill': 'none',\n",
       "              'line': {'color': 'rgba(45, 146, 255, 1.0)', 'width': 2},\n",
       "              'mode': 'lines',\n",
       "              'name': 'yhat1',\n",
       "              'type': 'scatter',\n",
       "              'uid': 'fa07bc78-aa18-406a-b730-52ab8e89d268',\n",
       "              'x': array([datetime.datetime(2022, 7, 26, 0, 0),\n",
       "                          datetime.datetime(2022, 7, 27, 0, 0),\n",
       "                          datetime.datetime(2022, 7, 28, 0, 0), ...,\n",
       "                          datetime.datetime(2025, 1, 8, 0, 0),\n",
       "                          datetime.datetime(2025, 1, 9, 0, 0),\n",
       "                          datetime.datetime(2025, 1, 10, 0, 0)], dtype=object),\n",
       "              'y': array([4.2256227, 4.3509316, 5.7363386, ..., 2.0697532, 3.3311307, 2.0434282],\n",
       "                         dtype=float32)},\n",
       "             {'marker': {'color': 'black', 'size': 4},\n",
       "              'mode': 'markers',\n",
       "              'name': 'Actual',\n",
       "              'type': 'scatter',\n",
       "              'uid': '2f1def21-02b8-4339-ab68-7aa5ab0f6a6e',\n",
       "              'x': array([datetime.datetime(2022, 7, 26, 0, 0),\n",
       "                          datetime.datetime(2022, 7, 27, 0, 0),\n",
       "                          datetime.datetime(2022, 7, 28, 0, 0), ...,\n",
       "                          datetime.datetime(2025, 1, 8, 0, 0),\n",
       "                          datetime.datetime(2025, 1, 9, 0, 0),\n",
       "                          datetime.datetime(2025, 1, 10, 0, 0)], dtype=object),\n",
       "              'y': array([nan, nan, nan, ..., nan, nan, nan])}],\n",
       "    'layout': {'autosize': True,\n",
       "               'font': {'size': 10},\n",
       "               'height': 420,\n",
       "               'hovermode': 'x unified',\n",
       "               'margin': {'b': 0, 'l': 0, 'pad': 0, 'r': 10, 't': 10},\n",
       "               'showlegend': True,\n",
       "               'template': '...',\n",
       "               'title': {'font': {'size': 12}},\n",
       "               'width': 700,\n",
       "               'xaxis': {'linewidth': 1.5,\n",
       "                         'mirror': True,\n",
       "                         'rangeselector': {'buttons': [{'count': 7, 'label': '1w', 'step': 'day', 'stepmode': 'backward'},\n",
       "                                                       {'count': 1,\n",
       "                                                        'label': '1m',\n",
       "                                                        'step': 'month',\n",
       "                                                        'stepmode': 'backward'},\n",
       "                                                       {'count': 6,\n",
       "                                                        'label': '6m',\n",
       "                                                        'step': 'month',\n",
       "                                                        'stepmode': 'backward'},\n",
       "                                                       {'count': 1, 'label': '1y', 'step': 'year', 'stepmode': 'backward'},\n",
       "                                                       {'step': 'all'}]},\n",
       "                         'rangeslider': {'visible': True},\n",
       "                         'showline': True,\n",
       "                         'title': {'text': 'ds'},\n",
       "                         'type': 'date'},\n",
       "               'yaxis': {'linewidth': 1.5, 'mirror': True, 'showline': True, 'title': {'text': 'y'}}}\n",
       "})"
      ]
     },
     "execution_count": 9,
     "metadata": {},
     "output_type": "execute_result"
    }
   ],
   "source": [
    "plot1=model.plot(forecast)\n",
    "plot1"
   ]
  },
  {
   "cell_type": "code",
   "execution_count": 10,
   "id": "4c23e622",
   "metadata": {},
   "outputs": [],
   "source": [
    "with open('Chennai_prcp_model.pkl','wb') as f:\n",
    "    pickle.dump(model,f)"
   ]
  },
  {
   "cell_type": "code",
   "execution_count": 11,
   "id": "ff0506ca",
   "metadata": {},
   "outputs": [
    {
     "data": {
      "text/plain": [
       "<neuralprophet.forecaster.NeuralProphet at 0x19b92b21120>"
      ]
     },
     "execution_count": 11,
     "metadata": {},
     "output_type": "execute_result"
    }
   ],
   "source": [
    "model"
   ]
  },
  {
   "cell_type": "code",
   "execution_count": null,
   "id": "d4a42120",
   "metadata": {},
   "outputs": [],
   "source": []
  }
 ],
 "metadata": {
  "kernelspec": {
   "display_name": "Python 3.10x",
   "language": "python",
   "name": "python3.10"
  },
  "language_info": {
   "codemirror_mode": {
    "name": "ipython",
    "version": 3
   },
   "file_extension": ".py",
   "mimetype": "text/x-python",
   "name": "python",
   "nbconvert_exporter": "python",
   "pygments_lexer": "ipython3",
   "version": "3.10.13"
  }
 },
 "nbformat": 4,
 "nbformat_minor": 5
}
