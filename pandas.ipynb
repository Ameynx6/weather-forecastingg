{
 "cells": [
  {
   "cell_type": "markdown",
   "id": "b8b60848",
   "metadata": {},
   "source": [
    "**PANDAS**"
   ]
  },
  {
   "cell_type": "code",
   "execution_count": 2,
   "id": "91823185",
   "metadata": {},
   "outputs": [],
   "source": [
    "import pandas as pd"
   ]
  },
  {
   "cell_type": "markdown",
   "id": "70b60713",
   "metadata": {},
   "source": [
    "1.Create "
   ]
  },
  {
   "cell_type": "markdown",
   "id": "13c85b8e",
   "metadata": {},
   "source": [
    "1.1 from csv"
   ]
  },
  {
   "cell_type": "code",
   "execution_count": 4,
   "id": "c93f2d4e",
   "metadata": {
    "scrolled": true
   },
   "outputs": [],
   "source": [
    "df= pd.read_csv('Mumbai_1990_2022_Santacruz.csv')"
   ]
  },
  {
   "cell_type": "code",
   "execution_count": null,
   "id": "bb207826",
   "metadata": {},
   "outputs": [],
   "source": []
  },
  {
   "cell_type": "markdown",
   "id": "6289a26b",
   "metadata": {},
   "source": [
    "2.Read"
   ]
  },
  {
   "cell_type": "code",
   "execution_count": 6,
   "id": "c78abf72",
   "metadata": {},
   "outputs": [
    {
     "data": {
      "text/html": [
       "<div>\n",
       "<style scoped>\n",
       "    .dataframe tbody tr th:only-of-type {\n",
       "        vertical-align: middle;\n",
       "    }\n",
       "\n",
       "    .dataframe tbody tr th {\n",
       "        vertical-align: top;\n",
       "    }\n",
       "\n",
       "    .dataframe thead th {\n",
       "        text-align: right;\n",
       "    }\n",
       "</style>\n",
       "<table border=\"1\" class=\"dataframe\">\n",
       "  <thead>\n",
       "    <tr style=\"text-align: right;\">\n",
       "      <th></th>\n",
       "      <th>time</th>\n",
       "      <th>tavg</th>\n",
       "      <th>tmin</th>\n",
       "      <th>tmax</th>\n",
       "      <th>prcp</th>\n",
       "    </tr>\n",
       "  </thead>\n",
       "  <tbody>\n",
       "    <tr>\n",
       "      <th>0</th>\n",
       "      <td>01-01-1990</td>\n",
       "      <td>23.2</td>\n",
       "      <td>17.0</td>\n",
       "      <td>NaN</td>\n",
       "      <td>0.0</td>\n",
       "    </tr>\n",
       "    <tr>\n",
       "      <th>1</th>\n",
       "      <td>02-01-1990</td>\n",
       "      <td>22.2</td>\n",
       "      <td>16.5</td>\n",
       "      <td>29.9</td>\n",
       "      <td>0.0</td>\n",
       "    </tr>\n",
       "    <tr>\n",
       "      <th>2</th>\n",
       "      <td>03-01-1990</td>\n",
       "      <td>21.8</td>\n",
       "      <td>16.3</td>\n",
       "      <td>30.7</td>\n",
       "      <td>0.0</td>\n",
       "    </tr>\n",
       "    <tr>\n",
       "      <th>3</th>\n",
       "      <td>04-01-1990</td>\n",
       "      <td>25.4</td>\n",
       "      <td>17.9</td>\n",
       "      <td>31.8</td>\n",
       "      <td>0.0</td>\n",
       "    </tr>\n",
       "    <tr>\n",
       "      <th>4</th>\n",
       "      <td>05-01-1990</td>\n",
       "      <td>26.5</td>\n",
       "      <td>19.3</td>\n",
       "      <td>33.7</td>\n",
       "      <td>0.0</td>\n",
       "    </tr>\n",
       "  </tbody>\n",
       "</table>\n",
       "</div>"
      ],
      "text/plain": [
       "         time  tavg  tmin  tmax  prcp\n",
       "0  01-01-1990  23.2  17.0   NaN   0.0\n",
       "1  02-01-1990  22.2  16.5  29.9   0.0\n",
       "2  03-01-1990  21.8  16.3  30.7   0.0\n",
       "3  04-01-1990  25.4  17.9  31.8   0.0\n",
       "4  05-01-1990  26.5  19.3  33.7   0.0"
      ]
     },
     "execution_count": 6,
     "metadata": {},
     "output_type": "execute_result"
    }
   ],
   "source": [
    "df.head()"
   ]
  },
  {
   "cell_type": "markdown",
   "id": "c6a74044",
   "metadata": {},
   "source": [
    "read bottom"
   ]
  },
  {
   "cell_type": "code",
   "execution_count": 7,
   "id": "19bf08ce",
   "metadata": {},
   "outputs": [
    {
     "data": {
      "text/html": [
       "<div>\n",
       "<style scoped>\n",
       "    .dataframe tbody tr th:only-of-type {\n",
       "        vertical-align: middle;\n",
       "    }\n",
       "\n",
       "    .dataframe tbody tr th {\n",
       "        vertical-align: top;\n",
       "    }\n",
       "\n",
       "    .dataframe thead th {\n",
       "        text-align: right;\n",
       "    }\n",
       "</style>\n",
       "<table border=\"1\" class=\"dataframe\">\n",
       "  <thead>\n",
       "    <tr style=\"text-align: right;\">\n",
       "      <th></th>\n",
       "      <th>time</th>\n",
       "      <th>tavg</th>\n",
       "      <th>tmin</th>\n",
       "      <th>tmax</th>\n",
       "      <th>prcp</th>\n",
       "    </tr>\n",
       "  </thead>\n",
       "  <tbody>\n",
       "    <tr>\n",
       "      <th>11888</th>\n",
       "      <td>20-07-2022</td>\n",
       "      <td>27.4</td>\n",
       "      <td>25.0</td>\n",
       "      <td>30.5</td>\n",
       "      <td>11.9</td>\n",
       "    </tr>\n",
       "    <tr>\n",
       "      <th>11889</th>\n",
       "      <td>21-07-2022</td>\n",
       "      <td>27.6</td>\n",
       "      <td>25.6</td>\n",
       "      <td>30.5</td>\n",
       "      <td>10.9</td>\n",
       "    </tr>\n",
       "    <tr>\n",
       "      <th>11890</th>\n",
       "      <td>22-07-2022</td>\n",
       "      <td>28.3</td>\n",
       "      <td>26.0</td>\n",
       "      <td>30.5</td>\n",
       "      <td>3.0</td>\n",
       "    </tr>\n",
       "    <tr>\n",
       "      <th>11891</th>\n",
       "      <td>23-07-2022</td>\n",
       "      <td>28.2</td>\n",
       "      <td>25.8</td>\n",
       "      <td>31.3</td>\n",
       "      <td>5.1</td>\n",
       "    </tr>\n",
       "    <tr>\n",
       "      <th>11892</th>\n",
       "      <td>24-07-2022</td>\n",
       "      <td>28.1</td>\n",
       "      <td>25.6</td>\n",
       "      <td>30.4</td>\n",
       "      <td>7.1</td>\n",
       "    </tr>\n",
       "    <tr>\n",
       "      <th>11893</th>\n",
       "      <td>25-07-2022</td>\n",
       "      <td>28.3</td>\n",
       "      <td>25.1</td>\n",
       "      <td>30.2</td>\n",
       "      <td>7.1</td>\n",
       "    </tr>\n",
       "  </tbody>\n",
       "</table>\n",
       "</div>"
      ],
      "text/plain": [
       "             time  tavg  tmin  tmax  prcp\n",
       "11888  20-07-2022  27.4  25.0  30.5  11.9\n",
       "11889  21-07-2022  27.6  25.6  30.5  10.9\n",
       "11890  22-07-2022  28.3  26.0  30.5   3.0\n",
       "11891  23-07-2022  28.2  25.8  31.3   5.1\n",
       "11892  24-07-2022  28.1  25.6  30.4   7.1\n",
       "11893  25-07-2022  28.3  25.1  30.2   7.1"
      ]
     },
     "execution_count": 7,
     "metadata": {},
     "output_type": "execute_result"
    }
   ],
   "source": [
    "df.tail(6)"
   ]
  },
  {
   "cell_type": "markdown",
   "id": "e417cefd",
   "metadata": {},
   "source": [
    "show col and datatype"
   ]
  },
  {
   "cell_type": "code",
   "execution_count": 8,
   "id": "5b83c4bb",
   "metadata": {},
   "outputs": [
    {
     "data": {
      "text/plain": [
       "Index(['time', 'tavg', 'tmin', 'tmax', 'prcp'], dtype='object')"
      ]
     },
     "execution_count": 8,
     "metadata": {},
     "output_type": "execute_result"
    }
   ],
   "source": [
    "df.columns"
   ]
  },
  {
   "cell_type": "code",
   "execution_count": 9,
   "id": "388491bd",
   "metadata": {},
   "outputs": [
    {
     "data": {
      "text/plain": [
       "time     object\n",
       "tavg    float64\n",
       "tmin    float64\n",
       "tmax    float64\n",
       "prcp    float64\n",
       "dtype: object"
      ]
     },
     "execution_count": 9,
     "metadata": {},
     "output_type": "execute_result"
    }
   ],
   "source": [
    "df.dtypes"
   ]
  },
  {
   "cell_type": "markdown",
   "id": "cc5728a9",
   "metadata": {},
   "source": [
    "summary"
   ]
  },
  {
   "cell_type": "code",
   "execution_count": 11,
   "id": "76a21e18",
   "metadata": {},
   "outputs": [
    {
     "data": {
      "text/html": [
       "<div>\n",
       "<style scoped>\n",
       "    .dataframe tbody tr th:only-of-type {\n",
       "        vertical-align: middle;\n",
       "    }\n",
       "\n",
       "    .dataframe tbody tr th {\n",
       "        vertical-align: top;\n",
       "    }\n",
       "\n",
       "    .dataframe thead th {\n",
       "        text-align: right;\n",
       "    }\n",
       "</style>\n",
       "<table border=\"1\" class=\"dataframe\">\n",
       "  <thead>\n",
       "    <tr style=\"text-align: right;\">\n",
       "      <th></th>\n",
       "      <th>tavg</th>\n",
       "      <th>tmin</th>\n",
       "      <th>tmax</th>\n",
       "      <th>prcp</th>\n",
       "    </tr>\n",
       "  </thead>\n",
       "  <tbody>\n",
       "    <tr>\n",
       "      <th>count</th>\n",
       "      <td>11883.000000</td>\n",
       "      <td>9440.000000</td>\n",
       "      <td>9987.000000</td>\n",
       "      <td>7213.000000</td>\n",
       "    </tr>\n",
       "    <tr>\n",
       "      <th>mean</th>\n",
       "      <td>27.762509</td>\n",
       "      <td>22.618549</td>\n",
       "      <td>32.315040</td>\n",
       "      <td>10.942007</td>\n",
       "    </tr>\n",
       "    <tr>\n",
       "      <th>std</th>\n",
       "      <td>2.189138</td>\n",
       "      <td>3.803629</td>\n",
       "      <td>2.234577</td>\n",
       "      <td>29.808576</td>\n",
       "    </tr>\n",
       "    <tr>\n",
       "      <th>min</th>\n",
       "      <td>17.700000</td>\n",
       "      <td>8.500000</td>\n",
       "      <td>22.300000</td>\n",
       "      <td>0.000000</td>\n",
       "    </tr>\n",
       "    <tr>\n",
       "      <th>25%</th>\n",
       "      <td>26.600000</td>\n",
       "      <td>19.800000</td>\n",
       "      <td>30.900000</td>\n",
       "      <td>0.000000</td>\n",
       "    </tr>\n",
       "    <tr>\n",
       "      <th>50%</th>\n",
       "      <td>28.100000</td>\n",
       "      <td>23.700000</td>\n",
       "      <td>32.400000</td>\n",
       "      <td>0.000000</td>\n",
       "    </tr>\n",
       "    <tr>\n",
       "      <th>75%</th>\n",
       "      <td>29.300000</td>\n",
       "      <td>25.400000</td>\n",
       "      <td>33.900000</td>\n",
       "      <td>7.100000</td>\n",
       "    </tr>\n",
       "    <tr>\n",
       "      <th>max</th>\n",
       "      <td>33.700000</td>\n",
       "      <td>30.400000</td>\n",
       "      <td>41.300000</td>\n",
       "      <td>461.000000</td>\n",
       "    </tr>\n",
       "  </tbody>\n",
       "</table>\n",
       "</div>"
      ],
      "text/plain": [
       "               tavg         tmin         tmax         prcp\n",
       "count  11883.000000  9440.000000  9987.000000  7213.000000\n",
       "mean      27.762509    22.618549    32.315040    10.942007\n",
       "std        2.189138     3.803629     2.234577    29.808576\n",
       "min       17.700000     8.500000    22.300000     0.000000\n",
       "25%       26.600000    19.800000    30.900000     0.000000\n",
       "50%       28.100000    23.700000    32.400000     0.000000\n",
       "75%       29.300000    25.400000    33.900000     7.100000\n",
       "max       33.700000    30.400000    41.300000   461.000000"
      ]
     },
     "execution_count": 11,
     "metadata": {},
     "output_type": "execute_result"
    }
   ],
   "source": [
    "df.describe()"
   ]
  },
  {
   "cell_type": "code",
   "execution_count": 16,
   "id": "2d186a56",
   "metadata": {},
   "outputs": [
    {
     "data": {
      "text/plain": [
       "0         NaN\n",
       "1        29.9\n",
       "2        30.7\n",
       "3        31.8\n",
       "4        33.7\n",
       "         ... \n",
       "11889    30.5\n",
       "11890    30.5\n",
       "11891    31.3\n",
       "11892    30.4\n",
       "11893    30.2\n",
       "Name: tmax, Length: 11894, dtype: float64"
      ]
     },
     "execution_count": 16,
     "metadata": {},
     "output_type": "execute_result"
    }
   ],
   "source": [
    "df.tmax"
   ]
  },
  {
   "cell_type": "code",
   "execution_count": 18,
   "id": "d3b3b971",
   "metadata": {},
   "outputs": [
    {
     "data": {
      "text/html": [
       "<div>\n",
       "<style scoped>\n",
       "    .dataframe tbody tr th:only-of-type {\n",
       "        vertical-align: middle;\n",
       "    }\n",
       "\n",
       "    .dataframe tbody tr th {\n",
       "        vertical-align: top;\n",
       "    }\n",
       "\n",
       "    .dataframe thead th {\n",
       "        text-align: right;\n",
       "    }\n",
       "</style>\n",
       "<table border=\"1\" class=\"dataframe\">\n",
       "  <thead>\n",
       "    <tr style=\"text-align: right;\">\n",
       "      <th></th>\n",
       "      <th>tmax</th>\n",
       "      <th>tmin</th>\n",
       "    </tr>\n",
       "  </thead>\n",
       "  <tbody>\n",
       "    <tr>\n",
       "      <th>0</th>\n",
       "      <td>NaN</td>\n",
       "      <td>17.0</td>\n",
       "    </tr>\n",
       "    <tr>\n",
       "      <th>1</th>\n",
       "      <td>29.9</td>\n",
       "      <td>16.5</td>\n",
       "    </tr>\n",
       "    <tr>\n",
       "      <th>2</th>\n",
       "      <td>30.7</td>\n",
       "      <td>16.3</td>\n",
       "    </tr>\n",
       "    <tr>\n",
       "      <th>3</th>\n",
       "      <td>31.8</td>\n",
       "      <td>17.9</td>\n",
       "    </tr>\n",
       "    <tr>\n",
       "      <th>4</th>\n",
       "      <td>33.7</td>\n",
       "      <td>19.3</td>\n",
       "    </tr>\n",
       "    <tr>\n",
       "      <th>...</th>\n",
       "      <td>...</td>\n",
       "      <td>...</td>\n",
       "    </tr>\n",
       "    <tr>\n",
       "      <th>11889</th>\n",
       "      <td>30.5</td>\n",
       "      <td>25.6</td>\n",
       "    </tr>\n",
       "    <tr>\n",
       "      <th>11890</th>\n",
       "      <td>30.5</td>\n",
       "      <td>26.0</td>\n",
       "    </tr>\n",
       "    <tr>\n",
       "      <th>11891</th>\n",
       "      <td>31.3</td>\n",
       "      <td>25.8</td>\n",
       "    </tr>\n",
       "    <tr>\n",
       "      <th>11892</th>\n",
       "      <td>30.4</td>\n",
       "      <td>25.6</td>\n",
       "    </tr>\n",
       "    <tr>\n",
       "      <th>11893</th>\n",
       "      <td>30.2</td>\n",
       "      <td>25.1</td>\n",
       "    </tr>\n",
       "  </tbody>\n",
       "</table>\n",
       "<p>11894 rows × 2 columns</p>\n",
       "</div>"
      ],
      "text/plain": [
       "       tmax  tmin\n",
       "0       NaN  17.0\n",
       "1      29.9  16.5\n",
       "2      30.7  16.3\n",
       "3      31.8  17.9\n",
       "4      33.7  19.3\n",
       "...     ...   ...\n",
       "11889  30.5  25.6\n",
       "11890  30.5  26.0\n",
       "11891  31.3  25.8\n",
       "11892  30.4  25.6\n",
       "11893  30.2  25.1\n",
       "\n",
       "[11894 rows x 2 columns]"
      ]
     },
     "execution_count": 18,
     "metadata": {},
     "output_type": "execute_result"
    }
   ],
   "source": [
    "df[['tmax','tmin']]"
   ]
  },
  {
   "cell_type": "code",
   "execution_count": null,
   "id": "5db9edb7",
   "metadata": {},
   "outputs": [],
   "source": []
  },
  {
   "cell_type": "code",
   "execution_count": null,
   "id": "8ff5f40d",
   "metadata": {},
   "outputs": [],
   "source": []
  },
  {
   "cell_type": "code",
   "execution_count": null,
   "id": "04458b8f",
   "metadata": {},
   "outputs": [],
   "source": []
  }
 ],
 "metadata": {
  "kernelspec": {
   "display_name": "Python 3.10x",
   "language": "python",
   "name": "python3.10"
  },
  "language_info": {
   "codemirror_mode": {
    "name": "ipython",
    "version": 3
   },
   "file_extension": ".py",
   "mimetype": "text/x-python",
   "name": "python",
   "nbconvert_exporter": "python",
   "pygments_lexer": "ipython3",
   "version": "3.10.13"
  }
 },
 "nbformat": 4,
 "nbformat_minor": 5
}
