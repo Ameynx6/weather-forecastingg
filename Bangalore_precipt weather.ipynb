{
 "cells": [
  {
   "cell_type": "code",
   "execution_count": 2,
   "id": "2b6ae394",
   "metadata": {},
   "outputs": [],
   "source": [
    "from neuralprophet import NeuralProphet\n",
    "import pandas as pd\n",
    "from matplotlib import pyplot as plt\n",
    "import pickle"
   ]
  },
  {
   "cell_type": "code",
   "execution_count": 6,
   "id": "48a9b360",
   "metadata": {},
   "outputs": [
    {
     "data": {
      "text/html": [
       "<div>\n",
       "<style scoped>\n",
       "    .dataframe tbody tr th:only-of-type {\n",
       "        vertical-align: middle;\n",
       "    }\n",
       "\n",
       "    .dataframe tbody tr th {\n",
       "        vertical-align: top;\n",
       "    }\n",
       "\n",
       "    .dataframe thead th {\n",
       "        text-align: right;\n",
       "    }\n",
       "</style>\n",
       "<table border=\"1\" class=\"dataframe\">\n",
       "  <thead>\n",
       "    <tr style=\"text-align: right;\">\n",
       "      <th></th>\n",
       "      <th>time</th>\n",
       "      <th>tavg</th>\n",
       "      <th>tmin</th>\n",
       "      <th>tmax</th>\n",
       "      <th>prcp</th>\n",
       "    </tr>\n",
       "  </thead>\n",
       "  <tbody>\n",
       "    <tr>\n",
       "      <th>0</th>\n",
       "      <td>01-01-1990</td>\n",
       "      <td>22.9</td>\n",
       "      <td>19.1</td>\n",
       "      <td>28.4</td>\n",
       "      <td>NaN</td>\n",
       "    </tr>\n",
       "    <tr>\n",
       "      <th>1</th>\n",
       "      <td>02-01-1990</td>\n",
       "      <td>21.7</td>\n",
       "      <td>NaN</td>\n",
       "      <td>26.5</td>\n",
       "      <td>0.0</td>\n",
       "    </tr>\n",
       "    <tr>\n",
       "      <th>2</th>\n",
       "      <td>03-01-1990</td>\n",
       "      <td>21.0</td>\n",
       "      <td>16.4</td>\n",
       "      <td>26.5</td>\n",
       "      <td>0.0</td>\n",
       "    </tr>\n",
       "    <tr>\n",
       "      <th>3</th>\n",
       "      <td>04-01-1990</td>\n",
       "      <td>20.8</td>\n",
       "      <td>NaN</td>\n",
       "      <td>27.4</td>\n",
       "      <td>0.0</td>\n",
       "    </tr>\n",
       "    <tr>\n",
       "      <th>4</th>\n",
       "      <td>05-01-1990</td>\n",
       "      <td>20.4</td>\n",
       "      <td>14.2</td>\n",
       "      <td>26.1</td>\n",
       "      <td>0.0</td>\n",
       "    </tr>\n",
       "  </tbody>\n",
       "</table>\n",
       "</div>"
      ],
      "text/plain": [
       "         time  tavg  tmin  tmax  prcp\n",
       "0  01-01-1990  22.9  19.1  28.4   NaN\n",
       "1  02-01-1990  21.7   NaN  26.5   0.0\n",
       "2  03-01-1990  21.0  16.4  26.5   0.0\n",
       "3  04-01-1990  20.8   NaN  27.4   0.0\n",
       "4  05-01-1990  20.4  14.2  26.1   0.0"
      ]
     },
     "execution_count": 6,
     "metadata": {},
     "output_type": "execute_result"
    }
   ],
   "source": [
    "df=pd.read_csv(r\"C:\\Users\\Amey\\PycharmProjects\\weather forecasting\\wdata\\Temperature_And_Precipitation_Cities_IN\\Bangalore_1990_2022_BangaloreCity.csv\")\n",
    "df.head()"
   ]
  },
  {
   "cell_type": "code",
   "execution_count": 7,
   "id": "cfc3f5aa",
   "metadata": {},
   "outputs": [
    {
     "data": {
      "text/plain": [
       "time     object\n",
       "tavg    float64\n",
       "tmin    float64\n",
       "tmax    float64\n",
       "prcp    float64\n",
       "dtype: object"
      ]
     },
     "execution_count": 7,
     "metadata": {},
     "output_type": "execute_result"
    }
   ],
   "source": [
    "df.dtypes"
   ]
  },
  {
   "cell_type": "code",
   "execution_count": 8,
   "id": "413eea93",
   "metadata": {},
   "outputs": [],
   "source": [
    "df['time'] = pd.to_datetime(df['time'], format='%d-%m-%Y')"
   ]
  },
  {
   "cell_type": "code",
   "execution_count": 9,
   "id": "691af58f",
   "metadata": {},
   "outputs": [
    {
     "data": {
      "text/plain": [
       "time    datetime64[ns]\n",
       "tavg           float64\n",
       "tmin           float64\n",
       "tmax           float64\n",
       "prcp           float64\n",
       "dtype: object"
      ]
     },
     "execution_count": 9,
     "metadata": {},
     "output_type": "execute_result"
    }
   ],
   "source": [
    "df.dtypes"
   ]
  },
  {
   "cell_type": "code",
   "execution_count": 10,
   "id": "816e1fe6",
   "metadata": {},
   "outputs": [
    {
     "name": "stderr",
     "output_type": "stream",
     "text": [
      "WARNING - (py.warnings._showwarnmsg) - C:\\Users\\Amey\\AppData\\Local\\Temp\\ipykernel_19276\\1627567933.py:2: SettingWithCopyWarning: \n",
      "A value is trying to be set on a copy of a slice from a DataFrame\n",
      "\n",
      "See the caveats in the documentation: https://pandas.pydata.org/pandas-docs/stable/user_guide/indexing.html#returning-a-view-versus-a-copy\n",
      "  data.dropna(inplace=True)\n",
      "\n"
     ]
    },
    {
     "data": {
      "text/html": [
       "<div>\n",
       "<style scoped>\n",
       "    .dataframe tbody tr th:only-of-type {\n",
       "        vertical-align: middle;\n",
       "    }\n",
       "\n",
       "    .dataframe tbody tr th {\n",
       "        vertical-align: top;\n",
       "    }\n",
       "\n",
       "    .dataframe thead th {\n",
       "        text-align: right;\n",
       "    }\n",
       "</style>\n",
       "<table border=\"1\" class=\"dataframe\">\n",
       "  <thead>\n",
       "    <tr style=\"text-align: right;\">\n",
       "      <th></th>\n",
       "      <th>ds</th>\n",
       "      <th>y</th>\n",
       "    </tr>\n",
       "  </thead>\n",
       "  <tbody>\n",
       "    <tr>\n",
       "      <th>1</th>\n",
       "      <td>1990-01-02</td>\n",
       "      <td>0.0</td>\n",
       "    </tr>\n",
       "    <tr>\n",
       "      <th>2</th>\n",
       "      <td>1990-01-03</td>\n",
       "      <td>0.0</td>\n",
       "    </tr>\n",
       "    <tr>\n",
       "      <th>3</th>\n",
       "      <td>1990-01-04</td>\n",
       "      <td>0.0</td>\n",
       "    </tr>\n",
       "    <tr>\n",
       "      <th>4</th>\n",
       "      <td>1990-01-05</td>\n",
       "      <td>0.0</td>\n",
       "    </tr>\n",
       "    <tr>\n",
       "      <th>7</th>\n",
       "      <td>1990-01-08</td>\n",
       "      <td>0.0</td>\n",
       "    </tr>\n",
       "  </tbody>\n",
       "</table>\n",
       "</div>"
      ],
      "text/plain": [
       "          ds    y\n",
       "1 1990-01-02  0.0\n",
       "2 1990-01-03  0.0\n",
       "3 1990-01-04  0.0\n",
       "4 1990-01-05  0.0\n",
       "7 1990-01-08  0.0"
      ]
     },
     "execution_count": 10,
     "metadata": {},
     "output_type": "execute_result"
    }
   ],
   "source": [
    "data=df[['time','prcp']]\n",
    "data.dropna(inplace=True)\n",
    "data.columns=['ds','y']\n",
    "data.head()"
   ]
  },
  {
   "cell_type": "code",
   "execution_count": 11,
   "id": "0568ce9e",
   "metadata": {},
   "outputs": [
    {
     "name": "stderr",
     "output_type": "stream",
     "text": [
      "WARNING - (NP.forecaster.fit) - When Global modeling with local normalization, metrics are displayed in normalized scale.\n",
      "INFO - (NP.df_utils._infer_frequency) - Major frequency D corresponds to 86.912% of the data.\n",
      "INFO - (NP.df_utils._infer_frequency) - Defined frequency is equal to major frequency - D\n",
      "INFO - (NP.config.init_data_params) - Setting normalization to global as only one dataframe provided for training.\n",
      "INFO - (NP.utils.set_auto_seasonalities) - Disabling daily seasonality. Run NeuralProphet with daily_seasonality=True to override this.\n",
      "INFO - (NP.config.set_auto_batch_epoch) - Auto-set batch_size to 32\n",
      "WARNING - (NP.config.set_lr_finder_args) - Learning rate finder: The number of batches (228) is too small than the required number                     for the learning rate finder (246). The results might not be optimal.\n"
     ]
    },
    {
     "data": {
      "application/vnd.jupyter.widget-view+json": {
       "model_id": "7ae0331020234201bfcf69b9604491c8",
       "version_major": 2,
       "version_minor": 0
      },
      "text/plain": [
       "Finding best initial lr:   0%|          | 0/246 [00:00<?, ?it/s]"
      ]
     },
     "metadata": {},
     "output_type": "display_data"
    },
    {
     "data": {
      "application/vnd.jupyter.widget-view+json": {
       "model_id": "75109a97698646a59ae107c1654c7277",
       "version_major": 2,
       "version_minor": 0
      },
      "text/plain": [
       "Training: 0it [00:00, ?it/s]"
      ]
     },
     "metadata": {},
     "output_type": "display_data"
    },
    {
     "data": {
      "text/html": [
       "<div>\n",
       "<style scoped>\n",
       "    .dataframe tbody tr th:only-of-type {\n",
       "        vertical-align: middle;\n",
       "    }\n",
       "\n",
       "    .dataframe tbody tr th {\n",
       "        vertical-align: top;\n",
       "    }\n",
       "\n",
       "    .dataframe thead th {\n",
       "        text-align: right;\n",
       "    }\n",
       "</style>\n",
       "<table border=\"1\" class=\"dataframe\">\n",
       "  <thead>\n",
       "    <tr style=\"text-align: right;\">\n",
       "      <th></th>\n",
       "      <th>MAE</th>\n",
       "      <th>RMSE</th>\n",
       "      <th>Loss</th>\n",
       "      <th>RegLoss</th>\n",
       "      <th>epoch</th>\n",
       "    </tr>\n",
       "  </thead>\n",
       "  <tbody>\n",
       "    <tr>\n",
       "      <th>0</th>\n",
       "      <td>31.620281</td>\n",
       "      <td>38.505997</td>\n",
       "      <td>0.613301</td>\n",
       "      <td>0.0</td>\n",
       "      <td>0</td>\n",
       "    </tr>\n",
       "    <tr>\n",
       "      <th>1</th>\n",
       "      <td>27.789946</td>\n",
       "      <td>34.043865</td>\n",
       "      <td>0.507665</td>\n",
       "      <td>0.0</td>\n",
       "      <td>1</td>\n",
       "    </tr>\n",
       "    <tr>\n",
       "      <th>2</th>\n",
       "      <td>24.157635</td>\n",
       "      <td>29.789755</td>\n",
       "      <td>0.410275</td>\n",
       "      <td>0.0</td>\n",
       "      <td>2</td>\n",
       "    </tr>\n",
       "    <tr>\n",
       "      <th>3</th>\n",
       "      <td>20.750570</td>\n",
       "      <td>25.882233</td>\n",
       "      <td>0.322438</td>\n",
       "      <td>0.0</td>\n",
       "      <td>3</td>\n",
       "    </tr>\n",
       "    <tr>\n",
       "      <th>4</th>\n",
       "      <td>17.617918</td>\n",
       "      <td>22.382250</td>\n",
       "      <td>0.247587</td>\n",
       "      <td>0.0</td>\n",
       "      <td>4</td>\n",
       "    </tr>\n",
       "    <tr>\n",
       "      <th>...</th>\n",
       "      <td>...</td>\n",
       "      <td>...</td>\n",
       "      <td>...</td>\n",
       "      <td>...</td>\n",
       "      <td>...</td>\n",
       "    </tr>\n",
       "    <tr>\n",
       "      <th>995</th>\n",
       "      <td>5.520605</td>\n",
       "      <td>10.963955</td>\n",
       "      <td>0.059090</td>\n",
       "      <td>0.0</td>\n",
       "      <td>995</td>\n",
       "    </tr>\n",
       "    <tr>\n",
       "      <th>996</th>\n",
       "      <td>5.478284</td>\n",
       "      <td>10.877163</td>\n",
       "      <td>0.058225</td>\n",
       "      <td>0.0</td>\n",
       "      <td>996</td>\n",
       "    </tr>\n",
       "    <tr>\n",
       "      <th>997</th>\n",
       "      <td>5.489570</td>\n",
       "      <td>10.849398</td>\n",
       "      <td>0.058559</td>\n",
       "      <td>0.0</td>\n",
       "      <td>997</td>\n",
       "    </tr>\n",
       "    <tr>\n",
       "      <th>998</th>\n",
       "      <td>5.502423</td>\n",
       "      <td>10.870894</td>\n",
       "      <td>0.058660</td>\n",
       "      <td>0.0</td>\n",
       "      <td>998</td>\n",
       "    </tr>\n",
       "    <tr>\n",
       "      <th>999</th>\n",
       "      <td>5.476806</td>\n",
       "      <td>10.922093</td>\n",
       "      <td>0.058220</td>\n",
       "      <td>0.0</td>\n",
       "      <td>999</td>\n",
       "    </tr>\n",
       "  </tbody>\n",
       "</table>\n",
       "<p>1000 rows × 5 columns</p>\n",
       "</div>"
      ],
      "text/plain": [
       "           MAE       RMSE      Loss  RegLoss  epoch\n",
       "0    31.620281  38.505997  0.613301      0.0      0\n",
       "1    27.789946  34.043865  0.507665      0.0      1\n",
       "2    24.157635  29.789755  0.410275      0.0      2\n",
       "3    20.750570  25.882233  0.322438      0.0      3\n",
       "4    17.617918  22.382250  0.247587      0.0      4\n",
       "..         ...        ...       ...      ...    ...\n",
       "995   5.520605  10.963955  0.059090      0.0    995\n",
       "996   5.478284  10.877163  0.058225      0.0    996\n",
       "997   5.489570  10.849398  0.058559      0.0    997\n",
       "998   5.502423  10.870894  0.058660      0.0    998\n",
       "999   5.476806  10.922093  0.058220      0.0    999\n",
       "\n",
       "[1000 rows x 5 columns]"
      ]
     },
     "execution_count": 11,
     "metadata": {},
     "output_type": "execute_result"
    }
   ],
   "source": [
    "model=NeuralProphet()  #untrained neuralprophet model\n",
    "model.fit(data,freq='D',epochs=1000)"
   ]
  },
  {
   "cell_type": "code",
   "execution_count": 8,
   "id": "16f8bbf3",
   "metadata": {},
   "outputs": [
    {
     "name": "stderr",
     "output_type": "stream",
     "text": [
      "INFO - (NP.df_utils._infer_frequency) - Major frequency D corresponds to 86.912% of the data.\n",
      "INFO - (NP.df_utils._infer_frequency) - Defined frequency is equal to major frequency - D\n",
      "INFO - (NP.df_utils.return_df_in_original_format) - Returning df with no ID column\n",
      "INFO - (NP.df_utils._infer_frequency) - Major frequency D corresponds to 99.889% of the data.\n",
      "INFO - (NP.df_utils._infer_frequency) - Defined frequency is equal to major frequency - D\n",
      "INFO - (NP.df_utils._infer_frequency) - Major frequency D corresponds to 99.889% of the data.\n",
      "INFO - (NP.df_utils._infer_frequency) - Defined frequency is equal to major frequency - D\n"
     ]
    },
    {
     "data": {
      "application/vnd.jupyter.widget-view+json": {
       "model_id": "d6e5982b98914359aeb4e77f01d6a4bd",
       "version_major": 2,
       "version_minor": 0
      },
      "text/plain": [
       "Predicting: 228it [00:00, ?it/s]"
      ]
     },
     "metadata": {},
     "output_type": "display_data"
    },
    {
     "name": "stderr",
     "output_type": "stream",
     "text": [
      "INFO - (NP.df_utils.return_df_in_original_format) - Returning df with no ID column\n"
     ]
    },
    {
     "data": {
      "text/html": [
       "<div>\n",
       "<style scoped>\n",
       "    .dataframe tbody tr th:only-of-type {\n",
       "        vertical-align: middle;\n",
       "    }\n",
       "\n",
       "    .dataframe tbody tr th {\n",
       "        vertical-align: top;\n",
       "    }\n",
       "\n",
       "    .dataframe thead th {\n",
       "        text-align: right;\n",
       "    }\n",
       "</style>\n",
       "<table border=\"1\" class=\"dataframe\">\n",
       "  <thead>\n",
       "    <tr style=\"text-align: right;\">\n",
       "      <th></th>\n",
       "      <th>ds</th>\n",
       "      <th>y</th>\n",
       "      <th>yhat1</th>\n",
       "      <th>trend</th>\n",
       "      <th>season_yearly</th>\n",
       "      <th>season_weekly</th>\n",
       "    </tr>\n",
       "  </thead>\n",
       "  <tbody>\n",
       "    <tr>\n",
       "      <th>0</th>\n",
       "      <td>2022-07-26</td>\n",
       "      <td>None</td>\n",
       "      <td>4.336162</td>\n",
       "      <td>3.695055</td>\n",
       "      <td>0.640475</td>\n",
       "      <td>0.000631</td>\n",
       "    </tr>\n",
       "    <tr>\n",
       "      <th>1</th>\n",
       "      <td>2022-07-27</td>\n",
       "      <td>None</td>\n",
       "      <td>4.199927</td>\n",
       "      <td>3.694890</td>\n",
       "      <td>0.725476</td>\n",
       "      <td>-0.220438</td>\n",
       "    </tr>\n",
       "    <tr>\n",
       "      <th>2</th>\n",
       "      <td>2022-07-28</td>\n",
       "      <td>None</td>\n",
       "      <td>4.591643</td>\n",
       "      <td>3.694724</td>\n",
       "      <td>0.807390</td>\n",
       "      <td>0.089529</td>\n",
       "    </tr>\n",
       "    <tr>\n",
       "      <th>3</th>\n",
       "      <td>2022-07-29</td>\n",
       "      <td>None</td>\n",
       "      <td>5.046212</td>\n",
       "      <td>3.694558</td>\n",
       "      <td>0.886056</td>\n",
       "      <td>0.465597</td>\n",
       "    </tr>\n",
       "    <tr>\n",
       "      <th>4</th>\n",
       "      <td>2022-07-30</td>\n",
       "      <td>None</td>\n",
       "      <td>4.452348</td>\n",
       "      <td>3.694393</td>\n",
       "      <td>0.960868</td>\n",
       "      <td>-0.202913</td>\n",
       "    </tr>\n",
       "  </tbody>\n",
       "</table>\n",
       "</div>"
      ],
      "text/plain": [
       "          ds     y     yhat1     trend  season_yearly  season_weekly\n",
       "0 2022-07-26  None  4.336162  3.695055       0.640475       0.000631\n",
       "1 2022-07-27  None  4.199927  3.694890       0.725476      -0.220438\n",
       "2 2022-07-28  None  4.591643  3.694724       0.807390       0.089529\n",
       "3 2022-07-29  None  5.046212  3.694558       0.886056       0.465597\n",
       "4 2022-07-30  None  4.452348  3.694393       0.960868      -0.202913"
      ]
     },
     "execution_count": 8,
     "metadata": {},
     "output_type": "execute_result"
    }
   ],
   "source": [
    "future=model.make_future_dataframe(data,periods=900)\n",
    "forecast=model.predict(future)\n",
    "forecast.head()"
   ]
  },
  {
   "cell_type": "code",
   "execution_count": 9,
   "id": "a8003789",
   "metadata": {},
   "outputs": [
    {
     "data": {
      "application/vnd.jupyter.widget-view+json": {
       "model_id": "1abda37cbb754ad3a0302778c7f629dc",
       "version_major": 2,
       "version_minor": 0
      },
      "text/plain": [
       "FigureWidgetResampler({\n",
       "    'data': [{'fill': 'none',\n",
       "              'line': {'color': 'rgba(45, 146, 255, 1.0)', 'width': 2},\n",
       "              'mode': 'lines',\n",
       "              'name': 'yhat1',\n",
       "              'type': 'scatter',\n",
       "              'uid': '037c1d3d-f56b-4d1a-9a81-4fd4dda70a9d',\n",
       "              'x': array([datetime.datetime(2022, 7, 26, 0, 0),\n",
       "                          datetime.datetime(2022, 7, 27, 0, 0),\n",
       "                          datetime.datetime(2022, 7, 28, 0, 0), ...,\n",
       "                          datetime.datetime(2025, 1, 8, 0, 0),\n",
       "                          datetime.datetime(2025, 1, 9, 0, 0),\n",
       "                          datetime.datetime(2025, 1, 10, 0, 0)], dtype=object),\n",
       "              'y': array([4.336162  , 4.1999273 , 4.5916433 , ..., 0.70244694, 1.0105324 ,\n",
       "                          1.3860174 ], dtype=float32)},\n",
       "             {'marker': {'color': 'black', 'size': 4},\n",
       "              'mode': 'markers',\n",
       "              'name': 'Actual',\n",
       "              'type': 'scatter',\n",
       "              'uid': '8962f748-6ada-48ec-b0aa-5d196a4853be',\n",
       "              'x': array([datetime.datetime(2022, 7, 26, 0, 0),\n",
       "                          datetime.datetime(2022, 7, 27, 0, 0),\n",
       "                          datetime.datetime(2022, 7, 28, 0, 0), ...,\n",
       "                          datetime.datetime(2025, 1, 8, 0, 0),\n",
       "                          datetime.datetime(2025, 1, 9, 0, 0),\n",
       "                          datetime.datetime(2025, 1, 10, 0, 0)], dtype=object),\n",
       "              'y': array([nan, nan, nan, ..., nan, nan, nan])}],\n",
       "    'layout': {'autosize': True,\n",
       "               'font': {'size': 10},\n",
       "               'height': 420,\n",
       "               'hovermode': 'x unified',\n",
       "               'margin': {'b': 0, 'l': 0, 'pad': 0, 'r': 10, 't': 10},\n",
       "               'showlegend': True,\n",
       "               'template': '...',\n",
       "               'title': {'font': {'size': 12}},\n",
       "               'width': 700,\n",
       "               'xaxis': {'linewidth': 1.5,\n",
       "                         'mirror': True,\n",
       "                         'rangeselector': {'buttons': [{'count': 7, 'label': '1w', 'step': 'day', 'stepmode': 'backward'},\n",
       "                                                       {'count': 1,\n",
       "                                                        'label': '1m',\n",
       "                                                        'step': 'month',\n",
       "                                                        'stepmode': 'backward'},\n",
       "                                                       {'count': 6,\n",
       "                                                        'label': '6m',\n",
       "                                                        'step': 'month',\n",
       "                                                        'stepmode': 'backward'},\n",
       "                                                       {'count': 1, 'label': '1y', 'step': 'year', 'stepmode': 'backward'},\n",
       "                                                       {'step': 'all'}]},\n",
       "                         'rangeslider': {'visible': True},\n",
       "                         'showline': True,\n",
       "                         'title': {'text': 'ds'},\n",
       "                         'type': 'date'},\n",
       "               'yaxis': {'linewidth': 1.5, 'mirror': True, 'showline': True, 'title': {'text': 'y'}}}\n",
       "})"
      ]
     },
     "execution_count": 9,
     "metadata": {},
     "output_type": "execute_result"
    }
   ],
   "source": [
    "plot1=model.plot(forecast)\n",
    "plot1"
   ]
  },
  {
   "cell_type": "code",
   "execution_count": 10,
   "id": "4bb8806a",
   "metadata": {},
   "outputs": [],
   "source": [
    "with open('Bangalore_prcp_model.pkl','wb') as f:\n",
    "    pickle.dump(model,f)"
   ]
  },
  {
   "cell_type": "code",
   "execution_count": 11,
   "id": "bec4ba3b",
   "metadata": {},
   "outputs": [
    {
     "data": {
      "text/plain": [
       "<neuralprophet.forecaster.NeuralProphet at 0x21e3d45c280>"
      ]
     },
     "execution_count": 11,
     "metadata": {},
     "output_type": "execute_result"
    }
   ],
   "source": [
    "model"
   ]
  },
  {
   "cell_type": "code",
   "execution_count": null,
   "id": "c39531de",
   "metadata": {},
   "outputs": [],
   "source": []
  }
 ],
 "metadata": {
  "kernelspec": {
   "display_name": "Python 3.10x",
   "language": "python",
   "name": "python3.10"
  },
  "language_info": {
   "codemirror_mode": {
    "name": "ipython",
    "version": 3
   },
   "file_extension": ".py",
   "mimetype": "text/x-python",
   "name": "python",
   "nbconvert_exporter": "python",
   "pygments_lexer": "ipython3",
   "version": "3.10.13"
  }
 },
 "nbformat": 4,
 "nbformat_minor": 5
}
