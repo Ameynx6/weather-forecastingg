{
 "cells": [
  {
   "cell_type": "code",
   "execution_count": 2,
   "id": "4d292212",
   "metadata": {},
   "outputs": [],
   "source": [
    "from neuralprophet import NeuralProphet"
   ]
  },
  {
   "cell_type": "code",
   "execution_count": 17,
   "id": "4168ce9f",
   "metadata": {},
   "outputs": [],
   "source": [
    "import pandas as pd\n",
    "from matplotlib import pyplot as plt\n",
    "import pickle"
   ]
  },
  {
   "cell_type": "code",
   "execution_count": 18,
   "id": "01bbd8a6",
   "metadata": {},
   "outputs": [],
   "source": [
    "df=pd.read_csv('weather_Bhubhneshwar_formatted.csv')"
   ]
  },
  {
   "cell_type": "code",
   "execution_count": 19,
   "id": "2746725b",
   "metadata": {},
   "outputs": [
    {
     "data": {
      "text/html": [
       "<div>\n",
       "<style scoped>\n",
       "    .dataframe tbody tr th:only-of-type {\n",
       "        vertical-align: middle;\n",
       "    }\n",
       "\n",
       "    .dataframe tbody tr th {\n",
       "        vertical-align: top;\n",
       "    }\n",
       "\n",
       "    .dataframe thead th {\n",
       "        text-align: right;\n",
       "    }\n",
       "</style>\n",
       "<table border=\"1\" class=\"dataframe\">\n",
       "  <thead>\n",
       "    <tr style=\"text-align: right;\">\n",
       "      <th></th>\n",
       "      <th>time</th>\n",
       "      <th>tavg</th>\n",
       "      <th>tmin</th>\n",
       "      <th>tmax</th>\n",
       "      <th>prcp</th>\n",
       "      <th>snow</th>\n",
       "      <th>wdir</th>\n",
       "      <th>wspd</th>\n",
       "      <th>wpgt</th>\n",
       "      <th>pres</th>\n",
       "      <th>tsun</th>\n",
       "    </tr>\n",
       "  </thead>\n",
       "  <tbody>\n",
       "    <tr>\n",
       "      <th>0</th>\n",
       "      <td>01-01-1990</td>\n",
       "      <td>20.1</td>\n",
       "      <td>NaN</td>\n",
       "      <td>28.0</td>\n",
       "      <td>0.0</td>\n",
       "      <td>NaN</td>\n",
       "      <td>NaN</td>\n",
       "      <td>NaN</td>\n",
       "      <td>NaN</td>\n",
       "      <td>NaN</td>\n",
       "      <td>NaN</td>\n",
       "    </tr>\n",
       "    <tr>\n",
       "      <th>1</th>\n",
       "      <td>02-01-1990</td>\n",
       "      <td>20.7</td>\n",
       "      <td>16.4</td>\n",
       "      <td>NaN</td>\n",
       "      <td>0.0</td>\n",
       "      <td>NaN</td>\n",
       "      <td>NaN</td>\n",
       "      <td>NaN</td>\n",
       "      <td>NaN</td>\n",
       "      <td>NaN</td>\n",
       "      <td>NaN</td>\n",
       "    </tr>\n",
       "    <tr>\n",
       "      <th>2</th>\n",
       "      <td>03-01-1990</td>\n",
       "      <td>20.7</td>\n",
       "      <td>16.0</td>\n",
       "      <td>27.4</td>\n",
       "      <td>0.0</td>\n",
       "      <td>NaN</td>\n",
       "      <td>NaN</td>\n",
       "      <td>NaN</td>\n",
       "      <td>NaN</td>\n",
       "      <td>NaN</td>\n",
       "      <td>NaN</td>\n",
       "    </tr>\n",
       "    <tr>\n",
       "      <th>3</th>\n",
       "      <td>04-01-1990</td>\n",
       "      <td>18.8</td>\n",
       "      <td>NaN</td>\n",
       "      <td>28.0</td>\n",
       "      <td>0.0</td>\n",
       "      <td>NaN</td>\n",
       "      <td>NaN</td>\n",
       "      <td>NaN</td>\n",
       "      <td>NaN</td>\n",
       "      <td>NaN</td>\n",
       "      <td>NaN</td>\n",
       "    </tr>\n",
       "    <tr>\n",
       "      <th>4</th>\n",
       "      <td>05-01-1990</td>\n",
       "      <td>19.8</td>\n",
       "      <td>11.0</td>\n",
       "      <td>28.2</td>\n",
       "      <td>0.0</td>\n",
       "      <td>NaN</td>\n",
       "      <td>NaN</td>\n",
       "      <td>NaN</td>\n",
       "      <td>NaN</td>\n",
       "      <td>NaN</td>\n",
       "      <td>NaN</td>\n",
       "    </tr>\n",
       "  </tbody>\n",
       "</table>\n",
       "</div>"
      ],
      "text/plain": [
       "         time  tavg  tmin  tmax  prcp  snow  wdir  wspd  wpgt  pres  tsun\n",
       "0  01-01-1990  20.1   NaN  28.0   0.0   NaN   NaN   NaN   NaN   NaN   NaN\n",
       "1  02-01-1990  20.7  16.4   NaN   0.0   NaN   NaN   NaN   NaN   NaN   NaN\n",
       "2  03-01-1990  20.7  16.0  27.4   0.0   NaN   NaN   NaN   NaN   NaN   NaN\n",
       "3  04-01-1990  18.8   NaN  28.0   0.0   NaN   NaN   NaN   NaN   NaN   NaN\n",
       "4  05-01-1990  19.8  11.0  28.2   0.0   NaN   NaN   NaN   NaN   NaN   NaN"
      ]
     },
     "execution_count": 19,
     "metadata": {},
     "output_type": "execute_result"
    }
   ],
   "source": [
    "df.head()"
   ]
  },
  {
   "cell_type": "code",
   "execution_count": 20,
   "id": "b5eda0fc",
   "metadata": {},
   "outputs": [
    {
     "data": {
      "text/plain": [
       "time     object\n",
       "tavg    float64\n",
       "tmin    float64\n",
       "tmax    float64\n",
       "prcp    float64\n",
       "snow    float64\n",
       "wdir    float64\n",
       "wspd    float64\n",
       "wpgt    float64\n",
       "pres    float64\n",
       "tsun    float64\n",
       "dtype: object"
      ]
     },
     "execution_count": 20,
     "metadata": {},
     "output_type": "execute_result"
    }
   ],
   "source": [
    "df.dtypes"
   ]
  },
  {
   "cell_type": "code",
   "execution_count": 21,
   "id": "4034efc2",
   "metadata": {},
   "outputs": [],
   "source": [
    "df['time'] = pd.to_datetime(df['time'], format='%d-%m-%Y')"
   ]
  },
  {
   "cell_type": "code",
   "execution_count": 22,
   "id": "873798ff",
   "metadata": {},
   "outputs": [
    {
     "data": {
      "text/plain": [
       "time    datetime64[ns]\n",
       "tavg           float64\n",
       "tmin           float64\n",
       "tmax           float64\n",
       "prcp           float64\n",
       "snow           float64\n",
       "wdir           float64\n",
       "wspd           float64\n",
       "wpgt           float64\n",
       "pres           float64\n",
       "tsun           float64\n",
       "dtype: object"
      ]
     },
     "execution_count": 22,
     "metadata": {},
     "output_type": "execute_result"
    }
   ],
   "source": [
    "df.dtypes"
   ]
  },
  {
   "cell_type": "code",
   "execution_count": 23,
   "id": "c5f3a4f5",
   "metadata": {},
   "outputs": [
    {
     "data": {
      "text/plain": [
       "[<matplotlib.lines.Line2D at 0x231491e03d0>]"
      ]
     },
     "execution_count": 23,
     "metadata": {},
     "output_type": "execute_result"
    },
    {
     "data": {
      "image/png": "[encoded data removed]",
      "text/plain": [
       "<Figure size 640x480 with 1 Axes>"
      ]
     },
     "metadata": {},
     "output_type": "display_data"
    }
   ],
   "source": [
    "plt.plot(df['time'],df['tmax'])"
   ]
  },
  {
   "cell_type": "code",
   "execution_count": 24,
   "id": "43bcc2e7",
   "metadata": {},
   "outputs": [
    {
     "name": "stderr",
     "output_type": "stream",
     "text": [
      "WARNING - (py.warnings._showwarnmsg) - C:\\Users\\Amey\\AppData\\Local\\Temp\\ipykernel_3088\\2974680685.py:2: SettingWithCopyWarning: \n",
      "A value is trying to be set on a copy of a slice from a DataFrame\n",
      "\n",
      "See the caveats in the documentation: https://pandas.pydata.org/pandas-docs/stable/user_guide/indexing.html#returning-a-view-versus-a-copy\n",
      "  data.dropna(inplace=True)\n",
      "\n"
     ]
    },
    {
     "data": {
      "text/html": [
       "<div>\n",
       "<style scoped>\n",
       "    .dataframe tbody tr th:only-of-type {\n",
       "        vertical-align: middle;\n",
       "    }\n",
       "\n",
       "    .dataframe tbody tr th {\n",
       "        vertical-align: top;\n",
       "    }\n",
       "\n",
       "    .dataframe thead th {\n",
       "        text-align: right;\n",
       "    }\n",
       "</style>\n",
       "<table border=\"1\" class=\"dataframe\">\n",
       "  <thead>\n",
       "    <tr style=\"text-align: right;\">\n",
       "      <th></th>\n",
       "      <th>ds</th>\n",
       "      <th>y</th>\n",
       "    </tr>\n",
       "  </thead>\n",
       "  <tbody>\n",
       "    <tr>\n",
       "      <th>0</th>\n",
       "      <td>1990-01-01</td>\n",
       "      <td>28.0</td>\n",
       "    </tr>\n",
       "    <tr>\n",
       "      <th>2</th>\n",
       "      <td>1990-01-03</td>\n",
       "      <td>27.4</td>\n",
       "    </tr>\n",
       "    <tr>\n",
       "      <th>3</th>\n",
       "      <td>1990-01-04</td>\n",
       "      <td>28.0</td>\n",
       "    </tr>\n",
       "    <tr>\n",
       "      <th>4</th>\n",
       "      <td>1990-01-05</td>\n",
       "      <td>28.2</td>\n",
       "    </tr>\n",
       "    <tr>\n",
       "      <th>7</th>\n",
       "      <td>1990-01-08</td>\n",
       "      <td>29.5</td>\n",
       "    </tr>\n",
       "  </tbody>\n",
       "</table>\n",
       "</div>"
      ],
      "text/plain": [
       "          ds     y\n",
       "0 1990-01-01  28.0\n",
       "2 1990-01-03  27.4\n",
       "3 1990-01-04  28.0\n",
       "4 1990-01-05  28.2\n",
       "7 1990-01-08  29.5"
      ]
     },
     "execution_count": 24,
     "metadata": {},
     "output_type": "execute_result"
    }
   ],
   "source": [
    "data=df[['time','tmax']]\n",
    "data.dropna(inplace=True)\n",
    "data.columns=['ds','y']\n",
    "data.head()"
   ]
  },
  {
   "cell_type": "code",
   "execution_count": 14,
   "id": "3979776c",
   "metadata": {},
   "outputs": [],
   "source": [
    "import torch\n",
    "\n",
    "\n",
    "device = 'cuda' if torch.cuda.is_available() else 'cpu'\n"
   ]
  },
  {
   "cell_type": "code",
   "execution_count": 15,
   "id": "d6af3d2c",
   "metadata": {},
   "outputs": [
    {
     "name": "stderr",
     "output_type": "stream",
     "text": [
      "WARNING - (NP.forecaster.fit) - When Global modeling with local normalization, metrics are displayed in normalized scale.\n",
      "INFO - (NP.df_utils._infer_frequency) - Major frequency D corresponds to 93.562% of the data.\n",
      "INFO - (NP.df_utils._infer_frequency) - Defined frequency is equal to major frequency - D\n",
      "INFO - (NP.config.init_data_params) - Setting normalization to global as only one dataframe provided for training.\n",
      "INFO - (NP.utils.set_auto_seasonalities) - Disabling daily seasonality. Run NeuralProphet with daily_seasonality=True to override this.\n",
      "INFO - (NP.config.set_auto_batch_epoch) - Auto-set batch_size to 64\n",
      "WARNING - (NP.config.set_lr_finder_args) - Learning rate finder: The number of batches (173) is too small than the required number                     for the learning rate finder (251). The results might not be optimal.\n"
     ]
    },
    {
     "data": {
      "application/vnd.jupyter.widget-view+json": {
       "model_id": "9b1eb80975d948aabd94e8dd4fcf5fcc",
       "version_major": 2,
       "version_minor": 0
      },
      "text/plain": [
       "Finding best initial lr:   0%|          | 0/251 [00:00<?, ?it/s]"
      ]
     },
     "metadata": {},
     "output_type": "display_data"
    },
    {
     "data": {
      "application/vnd.jupyter.widget-view+json": {
       "model_id": "7393cdcb40524f4ca1ab44d91b002b7d",
       "version_major": 2,
       "version_minor": 0
      },
      "text/plain": [
       "Training: 0it [00:00, ?it/s]"
      ]
     },
     "metadata": {},
     "output_type": "display_data"
    },
    {
     "data": {
      "text/html": [
       "<div>\n",
       "<style scoped>\n",
       "    .dataframe tbody tr th:only-of-type {\n",
       "        vertical-align: middle;\n",
       "    }\n",
       "\n",
       "    .dataframe tbody tr th {\n",
       "        vertical-align: top;\n",
       "    }\n",
       "\n",
       "    .dataframe thead th {\n",
       "        text-align: right;\n",
       "    }\n",
       "</style>\n",
       "<table border=\"1\" class=\"dataframe\">\n",
       "  <thead>\n",
       "    <tr style=\"text-align: right;\">\n",
       "      <th></th>\n",
       "      <th>MAE</th>\n",
       "      <th>RMSE</th>\n",
       "      <th>Loss</th>\n",
       "      <th>RegLoss</th>\n",
       "      <th>epoch</th>\n",
       "    </tr>\n",
       "  </thead>\n",
       "  <tbody>\n",
       "    <tr>\n",
       "      <th>0</th>\n",
       "      <td>23.572699</td>\n",
       "      <td>29.122753</td>\n",
       "      <td>0.585909</td>\n",
       "      <td>0.0</td>\n",
       "      <td>0</td>\n",
       "    </tr>\n",
       "    <tr>\n",
       "      <th>1</th>\n",
       "      <td>20.850603</td>\n",
       "      <td>25.778120</td>\n",
       "      <td>0.489820</td>\n",
       "      <td>0.0</td>\n",
       "      <td>1</td>\n",
       "    </tr>\n",
       "    <tr>\n",
       "      <th>2</th>\n",
       "      <td>18.295721</td>\n",
       "      <td>22.634579</td>\n",
       "      <td>0.401589</td>\n",
       "      <td>0.0</td>\n",
       "      <td>2</td>\n",
       "    </tr>\n",
       "    <tr>\n",
       "      <th>3</th>\n",
       "      <td>15.951674</td>\n",
       "      <td>19.719311</td>\n",
       "      <td>0.322066</td>\n",
       "      <td>0.0</td>\n",
       "      <td>3</td>\n",
       "    </tr>\n",
       "    <tr>\n",
       "      <th>4</th>\n",
       "      <td>13.770241</td>\n",
       "      <td>16.976912</td>\n",
       "      <td>0.250784</td>\n",
       "      <td>0.0</td>\n",
       "      <td>4</td>\n",
       "    </tr>\n",
       "    <tr>\n",
       "      <th>...</th>\n",
       "      <td>...</td>\n",
       "      <td>...</td>\n",
       "      <td>...</td>\n",
       "      <td>...</td>\n",
       "      <td>...</td>\n",
       "    </tr>\n",
       "    <tr>\n",
       "      <th>995</th>\n",
       "      <td>1.733316</td>\n",
       "      <td>2.287202</td>\n",
       "      <td>0.005052</td>\n",
       "      <td>0.0</td>\n",
       "      <td>995</td>\n",
       "    </tr>\n",
       "    <tr>\n",
       "      <th>996</th>\n",
       "      <td>1.731188</td>\n",
       "      <td>2.285599</td>\n",
       "      <td>0.005039</td>\n",
       "      <td>0.0</td>\n",
       "      <td>996</td>\n",
       "    </tr>\n",
       "    <tr>\n",
       "      <th>997</th>\n",
       "      <td>1.732117</td>\n",
       "      <td>2.285508</td>\n",
       "      <td>0.005041</td>\n",
       "      <td>0.0</td>\n",
       "      <td>997</td>\n",
       "    </tr>\n",
       "    <tr>\n",
       "      <th>998</th>\n",
       "      <td>1.730911</td>\n",
       "      <td>2.286280</td>\n",
       "      <td>0.005041</td>\n",
       "      <td>0.0</td>\n",
       "      <td>998</td>\n",
       "    </tr>\n",
       "    <tr>\n",
       "      <th>999</th>\n",
       "      <td>1.732000</td>\n",
       "      <td>2.288520</td>\n",
       "      <td>0.005047</td>\n",
       "      <td>0.0</td>\n",
       "      <td>999</td>\n",
       "    </tr>\n",
       "  </tbody>\n",
       "</table>\n",
       "<p>1000 rows × 5 columns</p>\n",
       "</div>"
      ],
      "text/plain": [
       "           MAE       RMSE      Loss  RegLoss  epoch\n",
       "0    23.572699  29.122753  0.585909      0.0      0\n",
       "1    20.850603  25.778120  0.489820      0.0      1\n",
       "2    18.295721  22.634579  0.401589      0.0      2\n",
       "3    15.951674  19.719311  0.322066      0.0      3\n",
       "4    13.770241  16.976912  0.250784      0.0      4\n",
       "..         ...        ...       ...      ...    ...\n",
       "995   1.733316   2.287202  0.005052      0.0    995\n",
       "996   1.731188   2.285599  0.005039      0.0    996\n",
       "997   1.732117   2.285508  0.005041      0.0    997\n",
       "998   1.730911   2.286280  0.005041      0.0    998\n",
       "999   1.732000   2.288520  0.005047      0.0    999\n",
       "\n",
       "[1000 rows x 5 columns]"
      ]
     },
     "execution_count": 15,
     "metadata": {},
     "output_type": "execute_result"
    }
   ],
   "source": [
    "model=NeuralProphet()  #untrained neuralprophet model\n",
    "model.fit(data,freq='D',epochs=1000)"
   ]
  },
  {
   "cell_type": "code",
   "execution_count": 25,
   "id": "700ca889",
   "metadata": {},
   "outputs": [
    {
     "name": "stderr",
     "output_type": "stream",
     "text": [
      "INFO - (NP.df_utils._infer_frequency) - Major frequency D corresponds to 93.562% of the data.\n",
      "INFO - (NP.df_utils._infer_frequency) - Defined frequency is equal to major frequency - D\n",
      "INFO - (NP.df_utils.return_df_in_original_format) - Returning df with no ID column\n",
      "INFO - (NP.df_utils._infer_frequency) - Major frequency D corresponds to 99.889% of the data.\n",
      "INFO - (NP.df_utils._infer_frequency) - Defined frequency is equal to major frequency - D\n",
      "INFO - (NP.df_utils._infer_frequency) - Major frequency D corresponds to 99.889% of the data.\n",
      "INFO - (NP.df_utils._infer_frequency) - Defined frequency is equal to major frequency - D\n"
     ]
    },
    {
     "data": {
      "application/vnd.jupyter.widget-view+json": {
       "model_id": "488f958ad7e941e2a23009f9f46cfcb0",
       "version_major": 2,
       "version_minor": 0
      },
      "text/plain": [
       "Predicting: 173it [00:00, ?it/s]"
      ]
     },
     "metadata": {},
     "output_type": "display_data"
    },
    {
     "name": "stderr",
     "output_type": "stream",
     "text": [
      "INFO - (NP.df_utils.return_df_in_original_format) - Returning df with no ID column\n"
     ]
    },
    {
     "data": {
      "text/html": [
       "<div>\n",
       "<style scoped>\n",
       "    .dataframe tbody tr th:only-of-type {\n",
       "        vertical-align: middle;\n",
       "    }\n",
       "\n",
       "    .dataframe tbody tr th {\n",
       "        vertical-align: top;\n",
       "    }\n",
       "\n",
       "    .dataframe thead th {\n",
       "        text-align: right;\n",
       "    }\n",
       "</style>\n",
       "<table border=\"1\" class=\"dataframe\">\n",
       "  <thead>\n",
       "    <tr style=\"text-align: right;\">\n",
       "      <th></th>\n",
       "      <th>ds</th>\n",
       "      <th>y</th>\n",
       "      <th>yhat1</th>\n",
       "      <th>trend</th>\n",
       "      <th>season_yearly</th>\n",
       "      <th>season_weekly</th>\n",
       "    </tr>\n",
       "  </thead>\n",
       "  <tbody>\n",
       "    <tr>\n",
       "      <th>0</th>\n",
       "      <td>2022-09-05</td>\n",
       "      <td>None</td>\n",
       "      <td>31.274416</td>\n",
       "      <td>32.040428</td>\n",
       "      <td>-0.799012</td>\n",
       "      <td>0.032998</td>\n",
       "    </tr>\n",
       "    <tr>\n",
       "      <th>1</th>\n",
       "      <td>2022-09-06</td>\n",
       "      <td>None</td>\n",
       "      <td>31.310844</td>\n",
       "      <td>32.039989</td>\n",
       "      <td>-0.784824</td>\n",
       "      <td>0.055676</td>\n",
       "    </tr>\n",
       "    <tr>\n",
       "      <th>2</th>\n",
       "      <td>2022-09-07</td>\n",
       "      <td>None</td>\n",
       "      <td>31.256775</td>\n",
       "      <td>32.039551</td>\n",
       "      <td>-0.769815</td>\n",
       "      <td>-0.012962</td>\n",
       "    </tr>\n",
       "    <tr>\n",
       "      <th>3</th>\n",
       "      <td>2022-09-08</td>\n",
       "      <td>None</td>\n",
       "      <td>31.221210</td>\n",
       "      <td>32.039112</td>\n",
       "      <td>-0.754076</td>\n",
       "      <td>-0.063827</td>\n",
       "    </tr>\n",
       "    <tr>\n",
       "      <th>4</th>\n",
       "      <td>2022-09-09</td>\n",
       "      <td>None</td>\n",
       "      <td>31.248814</td>\n",
       "      <td>32.038673</td>\n",
       "      <td>-0.737765</td>\n",
       "      <td>-0.052094</td>\n",
       "    </tr>\n",
       "  </tbody>\n",
       "</table>\n",
       "</div>"
      ],
      "text/plain": [
       "          ds     y      yhat1      trend  season_yearly  season_weekly\n",
       "0 2022-09-05  None  31.274416  32.040428      -0.799012       0.032998\n",
       "1 2022-09-06  None  31.310844  32.039989      -0.784824       0.055676\n",
       "2 2022-09-07  None  31.256775  32.039551      -0.769815      -0.012962\n",
       "3 2022-09-08  None  31.221210  32.039112      -0.754076      -0.063827\n",
       "4 2022-09-09  None  31.248814  32.038673      -0.737765      -0.052094"
      ]
     },
     "execution_count": 25,
     "metadata": {},
     "output_type": "execute_result"
    }
   ],
   "source": [
    "future=model.make_future_dataframe(data,periods=900)\n",
    "forecast=model.predict(future)\n",
    "forecast.head()"
   ]
  },
  {
   "cell_type": "code",
   "execution_count": null,
   "id": "bd399001",
   "metadata": {},
   "outputs": [],
   "source": []
  },
  {
   "cell_type": "code",
   "execution_count": 26,
   "id": "fa8d2308",
   "metadata": {},
   "outputs": [],
   "source": [
    "plot1=model.plot(forecast)\n"
   ]
  },
  {
   "cell_type": "code",
   "execution_count": 27,
   "id": "66c7b127",
   "metadata": {},
   "outputs": [
    {
     "data": {
      "application/vnd.jupyter.widget-view+json": {
       "model_id": "6025417cfe2242398960c40e750ffabb",
       "version_major": 2,
       "version_minor": 0
      },
      "text/plain": [
       "FigureWidgetResampler({\n",
       "    'data': [{'fill': 'none',\n",
       "              'line': {'color': 'rgba(45, 146, 255, 1.0)', 'width': 2},\n",
       "              'mode': 'lines',\n",
       "              'name': 'yhat1',\n",
       "              'type': 'scatter',\n",
       "              'uid': '5d64a02f-5590-457a-bf48-7f6ec817a750',\n",
       "              'x': array([datetime.datetime(2022, 9, 5, 0, 0),\n",
       "                          datetime.datetime(2022, 9, 6, 0, 0),\n",
       "                          datetime.datetime(2022, 9, 7, 0, 0), ...,\n",
       "                          datetime.datetime(2025, 2, 18, 0, 0),\n",
       "                          datetime.datetime(2025, 2, 19, 0, 0),\n",
       "                          datetime.datetime(2025, 2, 20, 0, 0)], dtype=object),\n",
       "              'y': array([31.274416, 31.310844, 31.256775, ..., 31.728943, 31.792992, 31.873287],\n",
       "                         dtype=float32)},\n",
       "             {'marker': {'color': 'black', 'size': 4},\n",
       "              'mode': 'markers',\n",
       "              'name': 'Actual',\n",
       "              'type': 'scatter',\n",
       "              'uid': '1877c806-9288-4048-8dde-53cd8c6d2b01',\n",
       "              'x': array([datetime.datetime(2022, 9, 5, 0, 0),\n",
       "                          datetime.datetime(2022, 9, 6, 0, 0),\n",
       "                          datetime.datetime(2022, 9, 7, 0, 0), ...,\n",
       "                          datetime.datetime(2025, 2, 18, 0, 0),\n",
       "                          datetime.datetime(2025, 2, 19, 0, 0),\n",
       "                          datetime.datetime(2025, 2, 20, 0, 0)], dtype=object),\n",
       "              'y': array([nan, nan, nan, ..., nan, nan, nan])}],\n",
       "    'layout': {'autosize': True,\n",
       "               'font': {'size': 10},\n",
       "               'height': 420,\n",
       "               'hovermode': 'x unified',\n",
       "               'margin': {'b': 0, 'l': 0, 'pad': 0, 'r': 10, 't': 10},\n",
       "               'showlegend': True,\n",
       "               'template': '...',\n",
       "               'title': {'font': {'size': 12}},\n",
       "               'width': 700,\n",
       "               'xaxis': {'linewidth': 1.5,\n",
       "                         'mirror': True,\n",
       "                         'rangeselector': {'buttons': [{'count': 7, 'label': '1w', 'step': 'day', 'stepmode': 'backward'},\n",
       "                                                       {'count': 1,\n",
       "                                                        'label': '1m',\n",
       "                                                        'step': 'month',\n",
       "                                                        'stepmode': 'backward'},\n",
       "                                                       {'count': 6,\n",
       "                                                        'label': '6m',\n",
       "                                                        'step': 'month',\n",
       "                                                        'stepmode': 'backward'},\n",
       "                                                       {'count': 1, 'label': '1y', 'step': 'year', 'stepmode': 'backward'},\n",
       "                                                       {'step': 'all'}]},\n",
       "                         'rangeslider': {'visible': True},\n",
       "                         'showline': True,\n",
       "                         'title': {'text': 'ds'},\n",
       "                         'type': 'date'},\n",
       "               'yaxis': {'linewidth': 1.5, 'mirror': True, 'showline': True, 'title': {'text': 'y'}}}\n",
       "})"
      ]
     },
     "execution_count": 27,
     "metadata": {},
     "output_type": "execute_result"
    }
   ],
   "source": [
    "plot1\n"
   ]
  },
  {
   "cell_type": "code",
   "execution_count": 28,
   "id": "0124e600",
   "metadata": {},
   "outputs": [],
   "source": [
    "with open('Bhubneshwar_max_model.pkl','wb') as f:\n",
    "    pickle.dump(model,f)"
   ]
  },
  {
   "cell_type": "code",
   "execution_count": null,
   "id": "ee7783df",
   "metadata": {},
   "outputs": [],
   "source": []
  },
  {
   "cell_type": "code",
   "execution_count": null,
   "id": "89a13731",
   "metadata": {},
   "outputs": [],
   "source": []
  },
  {
   "cell_type": "code",
   "execution_count": null,
   "id": "6bb7dde6",
   "metadata": {},
   "outputs": [],
   "source": []
  }
 ],
 "metadata": {
  "kernelspec": {
   "display_name": "Python 3.10x",
   "language": "python",
   "name": "python3.10"
  },
  "language_info": {
   "codemirror_mode": {
    "name": "ipython",
    "version": 3
   },
   "file_extension": ".py",
   "mimetype": "text/x-python",
   "name": "python",
   "nbconvert_exporter": "python",
   "pygments_lexer": "ipython3",
   "version": "3.10.13"
  }
 },
 "nbformat": 4,
 "nbformat_minor": 5
}
